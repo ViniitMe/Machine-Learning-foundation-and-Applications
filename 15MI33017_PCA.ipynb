{
  "nbformat": 4,
  "nbformat_minor": 0,
  "metadata": {
    "colab": {
      "name": "15MI33017_PCA.ipynb",
      "provenance": [],
      "collapsed_sections": [],
      "include_colab_link": true
    },
    "kernelspec": {
      "name": "python3",
      "display_name": "Python 3"
    }
  },
  "cells": [
    {
      "cell_type": "markdown",
      "metadata": {
        "id": "view-in-github",
        "colab_type": "text"
      },
      "source": [
        "<a href=\"https://colab.research.google.com/github/ViniitMe/Machine-Learning-foundation-and-Applications/blob/master/15MI33017_PCA.ipynb\" target=\"_parent\"><img src=\"https://colab.research.google.com/assets/colab-badge.svg\" alt=\"Open In Colab\"/></a>"
      ]
    },
    {
      "cell_type": "code",
      "metadata": {
        "id": "6yjCVXcijK8s",
        "colab_type": "code",
        "outputId": "cda27887-a308-44e2-a1c5-78254ea026ad",
        "colab": {
          "base_uri": "https://localhost:8080/",
          "height": 34
        }
      },
      "source": [
        "import pandas as pd\n",
        "import numpy as np\n",
        "import seaborn as sns\n",
        "%pylab inline\n",
        "from matplotlib import pyplot as plt\n",
        "from mpl_toolkits.mplot3d import Axes3D\n",
        "from mpl_toolkits.mplot3d import proj3d\n",
        "from sklearn.metrics import accuracy_score\n",
        "from sklearn.neighbors import KNeighborsClassifier"
      ],
      "execution_count": 0,
      "outputs": [
        {
          "output_type": "stream",
          "text": [
            "Populating the interactive namespace from numpy and matplotlib\n"
          ],
          "name": "stdout"
        }
      ]
    },
    {
      "cell_type": "code",
      "metadata": {
        "id": "2_K7ILnsnWHJ",
        "colab_type": "code",
        "colab": {}
      },
      "source": [
        "# 5D Gaussian Distribution points generation\n",
        "mu1 = [2, 8, 4, 3, 5]\n",
        "var1 = [[2,1,0,1,0], [1,2,0,1,0], [0,0,2,0,0], [1,1,0,2,0], [0,0,0,0,2]]\n",
        "\n",
        "mu2 = [2, 8, 4, 9, 5]\n",
        "var2 = [[2,1,0,1,1], [1,2,0,1,0], [0,0,2,0,0], [1,1,0,2,0], [0,0,0,0,2]]\n",
        "\n",
        "mu3 = [8, 8, 4, 9, 5]\n",
        "var3 = [[2,1,0,1,1], [1,2,0,1,0], [0,0,2,0,0], [1,1,0,2,0], [0,0,0,0,2]]"
      ],
      "execution_count": 0,
      "outputs": []
    },
    {
      "cell_type": "code",
      "metadata": {
        "id": "Y6D2Q-KfpVOo",
        "colab_type": "code",
        "outputId": "c29b1454-89e1-4e78-84f1-72387d0e2a33",
        "colab": {
          "base_uri": "https://localhost:8080/",
          "height": 85
        }
      },
      "source": [
        "# Generating training samples\n",
        "x1 = np.random.multivariate_normal(mu1, var1, 100)\n",
        "x2 = np.random.multivariate_normal(mu2, var2, 100)\n",
        "x3 = np.random.multivariate_normal(mu3, var3, 100)\n",
        "\n",
        "x_train = np.concatenate((x1, x2, x3))\n",
        "y_train = np.concatenate((np.ones((100,1)), 2 * np.ones((100,1)), 3 * np.ones((100,1))))"
      ],
      "execution_count": 0,
      "outputs": [
        {
          "output_type": "stream",
          "text": [
            "/usr/local/lib/python3.6/dist-packages/ipykernel_launcher.py:2: RuntimeWarning: covariance is not symmetric positive-semidefinite.\n",
            "  \n",
            "/usr/local/lib/python3.6/dist-packages/ipykernel_launcher.py:3: RuntimeWarning: covariance is not symmetric positive-semidefinite.\n",
            "  This is separate from the ipykernel package so we can avoid doing imports until\n"
          ],
          "name": "stderr"
        }
      ]
    },
    {
      "cell_type": "code",
      "metadata": {
        "id": "L8GynpbdwNkt",
        "colab_type": "code",
        "outputId": "4609774b-5c56-490b-ea25-beb110dc5c24",
        "colab": {
          "base_uri": "https://localhost:8080/",
          "height": 136
        }
      },
      "source": [
        "x_train"
      ],
      "execution_count": 0,
      "outputs": [
        {
          "output_type": "execute_result",
          "data": {
            "text/plain": [
              "array([[1.90218883, 7.87217042, 4.01914154, 2.6273678 , 4.60888591],\n",
              "       [0.13410772, 6.09987247, 0.8753505 , 1.88498512, 6.2783634 ],\n",
              "       [1.9834748 , 8.10409061, 4.31790678, 3.14795914, 7.20728632],\n",
              "       ...,\n",
              "       [9.69766267, 9.22797714, 5.13525112, 8.16547496, 5.43019899],\n",
              "       [5.97678655, 6.61482098, 3.46056015, 6.12440047, 4.30198747],\n",
              "       [7.2101448 , 7.8604363 , 6.01396409, 8.88493005, 5.53027322]])"
            ]
          },
          "metadata": {
            "tags": []
          },
          "execution_count": 4
        }
      ]
    },
    {
      "cell_type": "code",
      "metadata": {
        "id": "_3KJ-vfcqtqb",
        "colab_type": "code",
        "outputId": "ed138df1-07ab-49d7-ebfb-3b20f5f146f5",
        "colab": {
          "base_uri": "https://localhost:8080/",
          "height": 466
        }
      },
      "source": [
        "#Plot the data for any three dimension (Optional)\n",
        "\n",
        "\n",
        "fig = plt.figure(figsize=(8,8))\n",
        "ax = fig.add_subplot(111, projection='3d')\n",
        "plt.rcParams['legend.fontsize'] = 10   \n",
        "# ax.plot(x1[:,0], x2[:,], x3[:,2], 'o', markersize=8, color='blue', alpha=0.5, label='class1')\n",
        "# ax.plot(x1[:,0], x2[:,1], x3[:,2], '^', markersize=8, alpha=0.5, color='red', label='class2')\n",
        "\n",
        "ax.plot(x1[:,2], x1[:,3], x1[:,4], 'o', markersize=8, color='blue', alpha=0.5, label='class1')\n",
        "ax.plot(x2[:,2], x2[:,3], x2[:,4], '^', markersize=8, alpha=0.5, color='red', label='class2')\n",
        "# ax.plot(x3[:,2], x3[:,3], x3[:,4], '^', markersize=8, alpha=0.5, color='red', label='class3')\n",
        "\n",
        "plt.title('Samples for class 1 and class 2')\n",
        "ax.legend(loc='upper right')\n",
        "\n",
        "plt.show()"
      ],
      "execution_count": 0,
      "outputs": [
        {
          "output_type": "display_data",
          "data": {
            "image/png": "[encoded data removed]",
            "text/plain": [
              "<Figure size 576x576 with 1 Axes>"
            ]
          },
          "metadata": {
            "tags": []
          }
        }
      ]
    },
    {
      "cell_type": "code",
      "metadata": {
        "id": "bqAIlLNPrecS",
        "colab_type": "code",
        "outputId": "21625cfb-1ac6-4726-bf15-4411649ce74f",
        "colab": {
          "base_uri": "https://localhost:8080/",
          "height": 85
        }
      },
      "source": [
        "# Generating test samples\n",
        "t1 =  np.random.multivariate_normal(mu1, var1, 20)\n",
        "t2 =  np.random.multivariate_normal(mu2, var2, 20)\n",
        "t3 =  np.random.multivariate_normal(mu3, var3, 20)\n",
        "\n",
        "\n",
        "x_test = np.concatenate((t1, t2, t3))\n",
        "y_test = np.concatenate((np.ones((20,1)), 2 * np.ones((20,1)), 3 * np.ones((20,1))))"
      ],
      "execution_count": 0,
      "outputs": [
        {
          "output_type": "stream",
          "text": [
            "/usr/local/lib/python3.6/dist-packages/ipykernel_launcher.py:2: RuntimeWarning: covariance is not symmetric positive-semidefinite.\n",
            "  \n",
            "/usr/local/lib/python3.6/dist-packages/ipykernel_launcher.py:3: RuntimeWarning: covariance is not symmetric positive-semidefinite.\n",
            "  This is separate from the ipykernel package so we can avoid doing imports until\n"
          ],
          "name": "stderr"
        }
      ]
    },
    {
      "cell_type": "code",
      "metadata": {
        "id": "n4JTCr7WsYLz",
        "colab_type": "code",
        "outputId": "ae30bc6c-11c6-4d96-cac3-39ea673bce44",
        "colab": {
          "base_uri": "https://localhost:8080/",
          "height": 85
        }
      },
      "source": [
        "print(\"shape of x_train: \" + str(x_train.shape))\n",
        "print(\"shape of y_train: \" + str(y_train.shape))\n",
        "\n",
        "print(\"shape of x_test: \" + str(x_test.shape))\n",
        "print(\"shape of y_test: \" + str(y_test.shape))"
      ],
      "execution_count": 0,
      "outputs": [
        {
          "output_type": "stream",
          "text": [
            "shape of x_train: (300, 5)\n",
            "shape of y_train: (300, 1)\n",
            "shape of x_test: (60, 5)\n",
            "shape of y_test: (60, 1)\n"
          ],
          "name": "stdout"
        }
      ]
    },
    {
      "cell_type": "markdown",
      "metadata": {
        "id": "xT9w8dQ1tYa-",
        "colab_type": "text"
      },
      "source": [
        "#KNN"
      ]
    },
    {
      "cell_type": "code",
      "metadata": {
        "id": "LG-_-RsGtG8P",
        "colab_type": "code",
        "colab": {}
      },
      "source": [
        "acc = []\n",
        "neighbors = [1,2,3,4,5,6,7,8,9,10]\n",
        "for i in range(10):\n",
        "  clf = KNeighborsClassifier(n_neighbors=neighbors[i])\n",
        "  clf.fit(x_train,y_train.ravel())\n",
        "  y_pred = clf.predict(x_test)\n",
        "  acc.append(accuracy_score(y_test,y_pred))"
      ],
      "execution_count": 0,
      "outputs": []
    },
    {
      "cell_type": "code",
      "metadata": {
        "id": "owcO9bNS4smS",
        "colab_type": "code",
        "outputId": "54cc8741-d7cf-4e7a-9852-58bc2dc13cd2",
        "colab": {
          "base_uri": "https://localhost:8080/",
          "height": 286
        }
      },
      "source": [
        "plt.grid()\n",
        "plt.scatter(neighbors, acc)"
      ],
      "execution_count": 0,
      "outputs": [
        {
          "output_type": "execute_result",
          "data": {
            "text/plain": [
              "<matplotlib.collections.PathCollection at 0x7f994625b358>"
            ]
          },
          "metadata": {
            "tags": []
          },
          "execution_count": 9
        },
        {
          "output_type": "display_data",
          "data": {
            "image/png": "[encoded data removed]",
            "text/plain": [
              "<Figure size 432x288 with 1 Axes>"
            ]
          },
          "metadata": {
            "tags": []
          }
        }
      ]
    },
    {
      "cell_type": "markdown",
      "metadata": {
        "id": "ynQS_cNzxoyK",
        "colab_type": "text"
      },
      "source": [
        "#Decision Tree"
      ]
    },
    {
      "cell_type": "code",
      "metadata": {
        "id": "b7E9IHrexnbP",
        "colab_type": "code",
        "colab": {}
      },
      "source": [
        "from sklearn.tree import DecisionTreeClassifier"
      ],
      "execution_count": 0,
      "outputs": []
    },
    {
      "cell_type": "code",
      "metadata": {
        "id": "hCqXpoVoxawI",
        "colab_type": "code",
        "colab": {}
      },
      "source": [
        "acc = []\n",
        "depth = [1,2,3,4,5,6,7,8,9,10]\n",
        "for i  in range(10):\n",
        "  clf = DecisionTreeClassifier(max_depth = depth[i])\n",
        "  clf.fit(x_train, y_train.ravel())\n",
        "  y_pred = clf.predict(x_test)\n",
        "  acc.append(accuracy_score(y_test,y_pred))\n"
      ],
      "execution_count": 0,
      "outputs": []
    },
    {
      "cell_type": "code",
      "metadata": {
        "id": "DzkMfhue1jIf",
        "colab_type": "code",
        "outputId": "e16dc0d9-5d74-41cc-d631-a2435dbc1afd",
        "colab": {
          "base_uri": "https://localhost:8080/",
          "height": 286
        }
      },
      "source": [
        "plt.grid()\n",
        "plt.scatter(neighbors, acc)"
      ],
      "execution_count": 0,
      "outputs": [
        {
          "output_type": "execute_result",
          "data": {
            "text/plain": [
              "<matplotlib.collections.PathCollection at 0x7f99456ae898>"
            ]
          },
          "metadata": {
            "tags": []
          },
          "execution_count": 12
        },
        {
          "output_type": "display_data",
          "data": {
            "image/png": "[encoded data removed]",
            "text/plain": [
              "<Figure size 432x288 with 1 Axes>"
            ]
          },
          "metadata": {
            "tags": []
          }
        }
      ]
    },
    {
      "cell_type": "markdown",
      "metadata": {
        "id": "lDa5kmwt5z5P",
        "colab_type": "text"
      },
      "source": [
        "#PCA"
      ]
    },
    {
      "cell_type": "code",
      "metadata": {
        "id": "DVgQwcmF5tuN",
        "colab_type": "code",
        "outputId": "0b9cd5ec-b0b1-43cc-e790-7e99d5b9694c",
        "colab": {
          "base_uri": "https://localhost:8080/",
          "height": 34
        }
      },
      "source": [
        "#1. Taking the whole dataset ignoring the class labels\n",
        "x_train.shape"
      ],
      "execution_count": 0,
      "outputs": [
        {
          "output_type": "execute_result",
          "data": {
            "text/plain": [
              "(300, 5)"
            ]
          },
          "metadata": {
            "tags": []
          },
          "execution_count": 88
        }
      ]
    },
    {
      "cell_type": "code",
      "metadata": {
        "id": "ySdBS2Wt7F2N",
        "colab_type": "code",
        "colab": {}
      },
      "source": [
        "mean = []\n",
        "for i in range(x_train.shape[1]):\n",
        "  mean.append(x_train[:, i].mean())\n",
        " \n",
        "# Method2\n",
        "# M = np.mean(x_train.T, axis=1)"
      ],
      "execution_count": 0,
      "outputs": []
    },
    {
      "cell_type": "code",
      "metadata": {
        "id": "fSQonl4V7XZU",
        "colab_type": "code",
        "outputId": "d1654ca9-a7f8-4fce-d99e-c8a41bff751f",
        "colab": {
          "base_uri": "https://localhost:8080/",
          "height": 34
        }
      },
      "source": [
        "print(mean)"
      ],
      "execution_count": 0,
      "outputs": [
        {
          "output_type": "stream",
          "text": [
            "[4.062709633461743, 7.928098054018128, 3.9548044045347432, 6.962380622181257, 5.068158442443556]\n"
          ],
          "name": "stdout"
        }
      ]
    },
    {
      "cell_type": "code",
      "metadata": {
        "id": "if3e7wsTaH1J",
        "colab_type": "code",
        "colab": {}
      },
      "source": [
        "# Centering the columns by subtracting it from column means\n",
        "C = x_train-M"
      ],
      "execution_count": 0,
      "outputs": []
    },
    {
      "cell_type": "code",
      "metadata": {
        "id": "jsmhmNNqaIl6",
        "colab_type": "code",
        "outputId": "10508af1-da4a-44f9-aca6-7c1cce3988e3",
        "colab": {
          "base_uri": "https://localhost:8080/",
          "height": 187
        }
      },
      "source": [
        "# Calculating the covariance matrix using numpy\n",
        "cov_mat = np.cov(C.T)\n",
        "print(cov_mat)"
      ],
      "execution_count": 0,
      "outputs": [
        {
          "output_type": "stream",
          "text": [
            "[[1.04532272e+01 8.56495610e-01 2.93161547e-02 5.60071120e+00\n",
            "  4.88743899e-01]\n",
            " [8.56495610e-01 1.84667793e+00 5.07176296e-02 1.32000641e+00\n",
            "  4.64556053e-03]\n",
            " [2.93161547e-02 5.07176296e-02 1.92224680e+00 2.75243867e-01\n",
            "  5.51593714e-02]\n",
            " [5.60071120e+00 1.32000641e+00 2.75243867e-01 9.99648921e+00\n",
            "  1.58063531e-01]\n",
            " [4.88743899e-01 4.64556053e-03 5.51593714e-02 1.58063531e-01\n",
            "  2.20980896e+00]]\n"
          ],
          "name": "stdout"
        }
      ]
    },
    {
      "cell_type": "code",
      "metadata": {
        "id": "K-5HOQhjcSsk",
        "colab_type": "code",
        "outputId": "176f0ff9-1a45-4f89-83a9-901ce984b085",
        "colab": {
          "base_uri": "https://localhost:8080/",
          "height": 119
        }
      },
      "source": [
        "# eigen decomposition of covariance matrix\n",
        "values, vectors = np.linalg.eig(cov_mat)\n",
        "print(vectors)\n",
        "print(values)\n"
      ],
      "execution_count": 0,
      "outputs": [
        {
          "output_type": "stream",
          "text": [
            "[[-0.71462789 -0.69330724 -0.07757905  0.05109511 -0.00168312]\n",
            " [-0.10757141  0.11802863 -0.0239057   0.02821482 -0.98647356]\n",
            " [-0.01548455  0.0627765   0.22144662  0.97251175  0.03164862]\n",
            " [-0.69020769  0.70238003  0.032221   -0.0687606   0.15655486]\n",
            " [-0.03330083 -0.09008729  0.97125342 -0.21467672 -0.03682433]]\n",
            "[16.01488791  4.69426598  2.18847619  1.89362147  1.63719851]\n"
          ],
          "name": "stdout"
        }
      ]
    },
    {
      "cell_type": "code",
      "metadata": {
        "id": "sA0YqV-9df2b",
        "colab_type": "code",
        "outputId": "bc9a68e0-77a8-48d9-b66f-96b9bdaf7490",
        "colab": {
          "base_uri": "https://localhost:8080/",
          "height": 34
        }
      },
      "source": [
        "data.T.shape"
      ],
      "execution_count": 0,
      "outputs": [
        {
          "output_type": "execute_result",
          "data": {
            "text/plain": [
              "(300, 5)"
            ]
          },
          "metadata": {
            "tags": []
          },
          "execution_count": 44
        }
      ]
    },
    {
      "cell_type": "code",
      "metadata": {
        "id": "lYkQTeyTe_-X",
        "colab_type": "code",
        "outputId": "8c83bb1e-658b-41cc-8119-30d4742c6a50",
        "colab": {
          "base_uri": "https://localhost:8080/",
          "height": 102
        }
      },
      "source": [
        "# Make a list of (eigenvalue, eigenvector) tuples\n",
        "eig_pairs = [(np.abs(values[i]), vectors[:,i]) for i in range(len(values))]\n",
        "\n",
        "# Sort the (eigenvalue, eigenvector) tuples from high to low\n",
        "eig_pairs.sort(key=lambda x: x[0], reverse=True)\n",
        "\n",
        "# Visually confirm that the list is correctly sorted by decreasing eigenvalues\n",
        "for i in eig_pairs:\n",
        "    print(i[0])"
      ],
      "execution_count": 0,
      "outputs": [
        {
          "output_type": "stream",
          "text": [
            "16.01488791118866\n",
            "4.6942659833611655\n",
            "2.1884761941993607\n",
            "1.8936214740301247\n",
            "1.6371985139855456\n"
          ],
          "name": "stdout"
        }
      ]
    },
    {
      "cell_type": "code",
      "metadata": {
        "id": "gOnYezsXnZ7e",
        "colab_type": "code",
        "colab": {}
      },
      "source": [
        "matrix_w = np.hstack((eig_pairs[0][1].reshape(5,1), eig_pairs[1][1].reshape(5,1)))"
      ],
      "execution_count": 0,
      "outputs": []
    },
    {
      "cell_type": "code",
      "metadata": {
        "id": "dWyzMKLqoG5h",
        "colab_type": "code",
        "outputId": "c06e08c2-e2c4-4614-a65a-f62b43697b1b",
        "colab": {
          "base_uri": "https://localhost:8080/",
          "height": 102
        }
      },
      "source": [
        "matrix_w"
      ],
      "execution_count": 0,
      "outputs": [
        {
          "output_type": "execute_result",
          "data": {
            "text/plain": [
              "array([[-0.71462789, -0.69330724],\n",
              "       [-0.10757141,  0.11802863],\n",
              "       [-0.01548455,  0.0627765 ],\n",
              "       [-0.69020769,  0.70238003],\n",
              "       [-0.03330083, -0.09008729]])"
            ]
          },
          "metadata": {
            "tags": []
          },
          "execution_count": 48
        }
      ]
    },
    {
      "cell_type": "code",
      "metadata": {
        "id": "cgOQ4b8JoPja",
        "colab_type": "code",
        "colab": {}
      },
      "source": [
        "# project data\n",
        "data = matrix_w.T.dot(C.T)"
      ],
      "execution_count": 0,
      "outputs": []
    },
    {
      "cell_type": "code",
      "metadata": {
        "id": "akUIMBwioevN",
        "colab_type": "code",
        "outputId": "f256e82f-818e-43a5-f9be-92a899e0c3f7",
        "colab": {
          "base_uri": "https://localhost:8080/",
          "height": 34
        }
      },
      "source": [
        "print(data.T.shape)"
      ],
      "execution_count": 0,
      "outputs": [
        {
          "output_type": "stream",
          "text": [
            "(300, 2)\n"
          ],
          "name": "stdout"
        }
      ]
    },
    {
      "cell_type": "code",
      "metadata": {
        "id": "WoH472-YoiSA",
        "colab_type": "code",
        "colab": {}
      },
      "source": [
        "# KNN on this data\n",
        "from sklearn.model_selection import train_test_split\n",
        "x_train,x_test,y_train,y_test = train_test_split(x_train,y_train,test_size=0.25)"
      ],
      "execution_count": 0,
      "outputs": []
    },
    {
      "cell_type": "code",
      "metadata": {
        "id": "IPZ08t6IpPfT",
        "colab_type": "code",
        "colab": {}
      },
      "source": [
        "acc = []\n",
        "neighbors = [1,2,3,4,5,6,7,8,9,10]\n",
        "for i in range(10):\n",
        "  clf = KNeighborsClassifier(n_neighbors=neighbors[i])\n",
        "  clf.fit(x_train,y_train.ravel())\n",
        "  y_pred = clf.predict(x_test)\n",
        "  acc.append(accuracy_score(y_test,y_pred))"
      ],
      "execution_count": 0,
      "outputs": []
    },
    {
      "cell_type": "code",
      "metadata": {
        "id": "JUaYanBspUZ9",
        "colab_type": "code",
        "outputId": "407740d4-5907-42c3-a642-28f2e44bafda",
        "colab": {
          "base_uri": "https://localhost:8080/",
          "height": 286
        }
      },
      "source": [
        "plt.grid()\n",
        "plt.scatter(neighbors, acc)"
      ],
      "execution_count": 0,
      "outputs": [
        {
          "output_type": "execute_result",
          "data": {
            "text/plain": [
              "<matplotlib.collections.PathCollection at 0x7f9945555860>"
            ]
          },
          "metadata": {
            "tags": []
          },
          "execution_count": 56
        },
        {
          "output_type": "display_data",
          "data": {
            "image/png": "[encoded data removed]",
            "text/plain": [
              "<Figure size 432x288 with 1 Axes>"
            ]
          },
          "metadata": {
            "tags": []
          }
        }
      ]
    },
    {
      "cell_type": "code",
      "metadata": {
        "id": "D4U5YFAMpXcv",
        "colab_type": "code",
        "colab": {}
      },
      "source": [
        ""
      ],
      "execution_count": 0,
      "outputs": []
    }
  ]
}