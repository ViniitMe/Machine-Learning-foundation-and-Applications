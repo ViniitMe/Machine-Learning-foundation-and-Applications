{
  "nbformat": 4,
  "nbformat_minor": 0,
  "metadata": {
    "colab": {
      "name": "Rainfall_prediction_15MI33017.ipynb",
      "provenance": [],
      "collapsed_sections": [],
      "include_colab_link": true
    },
    "kernelspec": {
      "name": "python3",
      "display_name": "Python 3"
    }
  },
  "cells": [
    {
      "cell_type": "markdown",
      "metadata": {
        "id": "view-in-github",
        "colab_type": "text"
      },
      "source": [
        "<a href=\"https://colab.research.google.com/github/ViniitMe/Machine-Learning-foundation-and-Applications/blob/master/Rainfall_prediction_15MI33017.ipynb\" target=\"_parent\"><img src=\"https://colab.research.google.com/assets/colab-badge.svg\" alt=\"Open In Colab\"/></a>"
      ]
    },
    {
      "cell_type": "code",
      "metadata": {
        "id": "CB2QVzQzT9Zi",
        "colab_type": "code",
        "colab": {}
      },
      "source": [
        "# Importing Libraries\n",
        "import numpy as np\n",
        "import pandas as pd\n",
        "import matplotlib.pyplot as plt\n",
        "from time import time\n",
        "import warnings\n",
        "warnings.filterwarnings('ignore')\n",
        "from sklearn.metrics import mean_squared_error\n",
        "from sklearn.model_selection import train_test_split\n",
        "from sklearn.metrics import accuracy_score\n",
        "from sklearn.tree import DecisionTreeClassifier\n",
        "from sklearn.metrics import classification_report\n",
        "from sklearn.linear_model import LinearRegression "
      ],
      "execution_count": 0,
      "outputs": []
    },
    {
      "cell_type": "code",
      "metadata": {
        "id": "c4UeWxJPUUdk",
        "colab_type": "code",
        "outputId": "0287cb86-a963-4f96-ce3f-591fa55c160a",
        "colab": {
          "base_uri": "https://localhost:8080/",
          "height": 34
        }
      },
      "source": [
        "from google.colab import drive\n",
        "drive.mount(\"/content/drive/\")"
      ],
      "execution_count": 0,
      "outputs": [
        {
          "output_type": "stream",
          "text": [
            "Drive already mounted at /content/drive/; to attempt to forcibly remount, call drive.mount(\"/content/drive/\", force_remount=True).\n"
          ],
          "name": "stdout"
        }
      ]
    },
    {
      "cell_type": "code",
      "metadata": {
        "id": "1QHp-I7eUpuT",
        "colab_type": "code",
        "colab": {}
      },
      "source": [
        "# Loading Dataset\n",
        "import scipy.io\n",
        "train = scipy.io.loadmat('/content/drive/My Drive/15MI33017/2010rainfall.mat')\n",
        "test = scipy.io.loadmat('/content/drive/My Drive/15MI33017/2011rainfall.mat')"
      ],
      "execution_count": 0,
      "outputs": []
    },
    {
      "cell_type": "markdown",
      "metadata": {
        "id": "G3p5ygpe7biR",
        "colab_type": "text"
      },
      "source": [
        "# Linear Regression"
      ]
    },
    {
      "cell_type": "code",
      "metadata": {
        "id": "t-2mZbhvU9jw",
        "colab_type": "code",
        "colab": {}
      },
      "source": [
        "train_data = pd.DataFrame(train['XR1'])\n",
        "test_data = pd.DataFrame(test['XR'])"
      ],
      "execution_count": 0,
      "outputs": []
    },
    {
      "cell_type": "code",
      "metadata": {
        "id": "gRbldtTBVGMX",
        "colab_type": "code",
        "outputId": "cb85dcec-1c0e-40d5-e40e-4bd07d9f6f24",
        "colab": {
          "base_uri": "https://localhost:8080/",
          "height": 170
        }
      },
      "source": [
        "print(train_data.head())\n",
        "print(train_data.shape)"
      ],
      "execution_count": 0,
      "outputs": [
        {
          "output_type": "stream",
          "text": [
            "   0         1          2    3    4    ...  117  118  119  120       121\n",
            "0  0.0  0.000000   0.000000  0.0  0.0  ...  0.0  0.0  0.0  0.0  0.000000\n",
            "1  0.0  0.000000   0.000000  0.0  0.0  ...  0.0  0.0  0.0  0.0  0.000000\n",
            "2  0.0  0.467299  10.927622  0.0  0.0  ...  0.0  0.0  0.0  0.0  0.000000\n",
            "3  0.0  0.469477   6.805963  0.0  0.0  ...  0.0  0.0  0.0  0.0  0.170385\n",
            "4  0.0  0.000000   6.611897  0.0  0.0  ...  0.0  0.0  0.0  0.0  0.543626\n",
            "\n",
            "[5 rows x 122 columns]\n",
            "(357, 122)\n"
          ],
          "name": "stdout"
        }
      ]
    },
    {
      "cell_type": "code",
      "metadata": {
        "id": "Ti7_RZYgisXP",
        "colab_type": "code",
        "colab": {}
      },
      "source": [
        "# Data Preparation\n",
        "def preprocess(loc_num, data):\n",
        "  location = data.iloc[loc_num,:]\n",
        "  data = data.drop(loc_num,0)\n",
        "  data = data.reset_index(drop=True)\n",
        "  data = data.drop(0,1)\n",
        "  data = data.drop(1,1)\n",
        "  data.columns = range(data.shape[1])\n",
        "  row_1 = pd.DataFrame(location[0:120])\n",
        "  row_1 = row_1.reset_index(drop=True)\n",
        "  row_1.columns = [356]\n",
        "  row_2 = pd.DataFrame(location[1:121])\n",
        "  row_2 = row_2.reset_index(drop = True)\n",
        "  row_2.columns = [357]\n",
        "  data = data.append(row_1.T)\n",
        "  data = data.append(row_2.T)\n",
        "  return data;"
      ],
      "execution_count": 0,
      "outputs": []
    },
    {
      "cell_type": "markdown",
      "metadata": {
        "id": "-yh3HEvs45AB",
        "colab_type": "text"
      },
      "source": [
        "For Delhi(s=158)"
      ]
    },
    {
      "cell_type": "code",
      "metadata": {
        "id": "A0etk5p4kEDS",
        "colab_type": "code",
        "colab": {}
      },
      "source": [
        "x_train_d = preprocess(158,train_data)\n",
        "x_test_d = preprocess(158, test_data)"
      ],
      "execution_count": 0,
      "outputs": []
    },
    {
      "cell_type": "code",
      "metadata": {
        "id": "V2EYXawMkLPH",
        "colab_type": "code",
        "outputId": "df58c568-16f3-470c-9c88-6d442fbce85b",
        "colab": {
          "base_uri": "https://localhost:8080/",
          "height": 253
        }
      },
      "source": [
        "train_data.head()"
      ],
      "execution_count": 0,
      "outputs": [
        {
          "output_type": "execute_result",
          "data": {
            "text/html": [
              "<div>\n",
              "<style scoped>\n",
              "    .dataframe tbody tr th:only-of-type {\n",
              "        vertical-align: middle;\n",
              "    }\n",
              "\n",
              "    .dataframe tbody tr th {\n",
              "        vertical-align: top;\n",
              "    }\n",
              "\n",
              "    .dataframe thead th {\n",
              "        text-align: right;\n",
              "    }\n",
              "</style>\n",
              "<table border=\"1\" class=\"dataframe\">\n",
              "  <thead>\n",
              "    <tr style=\"text-align: right;\">\n",
              "      <th></th>\n",
              "      <th>0</th>\n",
              "      <th>1</th>\n",
              "      <th>2</th>\n",
              "      <th>3</th>\n",
              "      <th>4</th>\n",
              "      <th>5</th>\n",
              "      <th>6</th>\n",
              "      <th>7</th>\n",
              "      <th>8</th>\n",
              "      <th>9</th>\n",
              "      <th>10</th>\n",
              "      <th>11</th>\n",
              "      <th>12</th>\n",
              "      <th>13</th>\n",
              "      <th>14</th>\n",
              "      <th>15</th>\n",
              "      <th>16</th>\n",
              "      <th>17</th>\n",
              "      <th>18</th>\n",
              "      <th>19</th>\n",
              "      <th>20</th>\n",
              "      <th>21</th>\n",
              "      <th>22</th>\n",
              "      <th>23</th>\n",
              "      <th>24</th>\n",
              "      <th>25</th>\n",
              "      <th>26</th>\n",
              "      <th>27</th>\n",
              "      <th>28</th>\n",
              "      <th>29</th>\n",
              "      <th>30</th>\n",
              "      <th>31</th>\n",
              "      <th>32</th>\n",
              "      <th>33</th>\n",
              "      <th>34</th>\n",
              "      <th>35</th>\n",
              "      <th>36</th>\n",
              "      <th>37</th>\n",
              "      <th>38</th>\n",
              "      <th>39</th>\n",
              "      <th>...</th>\n",
              "      <th>82</th>\n",
              "      <th>83</th>\n",
              "      <th>84</th>\n",
              "      <th>85</th>\n",
              "      <th>86</th>\n",
              "      <th>87</th>\n",
              "      <th>88</th>\n",
              "      <th>89</th>\n",
              "      <th>90</th>\n",
              "      <th>91</th>\n",
              "      <th>92</th>\n",
              "      <th>93</th>\n",
              "      <th>94</th>\n",
              "      <th>95</th>\n",
              "      <th>96</th>\n",
              "      <th>97</th>\n",
              "      <th>98</th>\n",
              "      <th>99</th>\n",
              "      <th>100</th>\n",
              "      <th>101</th>\n",
              "      <th>102</th>\n",
              "      <th>103</th>\n",
              "      <th>104</th>\n",
              "      <th>105</th>\n",
              "      <th>106</th>\n",
              "      <th>107</th>\n",
              "      <th>108</th>\n",
              "      <th>109</th>\n",
              "      <th>110</th>\n",
              "      <th>111</th>\n",
              "      <th>112</th>\n",
              "      <th>113</th>\n",
              "      <th>114</th>\n",
              "      <th>115</th>\n",
              "      <th>116</th>\n",
              "      <th>117</th>\n",
              "      <th>118</th>\n",
              "      <th>119</th>\n",
              "      <th>120</th>\n",
              "      <th>121</th>\n",
              "    </tr>\n",
              "  </thead>\n",
              "  <tbody>\n",
              "    <tr>\n",
              "      <th>0</th>\n",
              "      <td>0.0</td>\n",
              "      <td>0.000000</td>\n",
              "      <td>0.000000</td>\n",
              "      <td>0.0</td>\n",
              "      <td>0.0</td>\n",
              "      <td>13.246254</td>\n",
              "      <td>67.325218</td>\n",
              "      <td>0.000000</td>\n",
              "      <td>0.0</td>\n",
              "      <td>0.0</td>\n",
              "      <td>0.0</td>\n",
              "      <td>0.0</td>\n",
              "      <td>0.0</td>\n",
              "      <td>0.0</td>\n",
              "      <td>0.0</td>\n",
              "      <td>0.000000</td>\n",
              "      <td>0.0</td>\n",
              "      <td>0.0</td>\n",
              "      <td>0.0</td>\n",
              "      <td>0.0</td>\n",
              "      <td>0.0</td>\n",
              "      <td>0.000000</td>\n",
              "      <td>0.0</td>\n",
              "      <td>0.496031</td>\n",
              "      <td>0.0</td>\n",
              "      <td>0.0</td>\n",
              "      <td>0.0</td>\n",
              "      <td>0.0</td>\n",
              "      <td>0.0</td>\n",
              "      <td>0.0</td>\n",
              "      <td>0.0</td>\n",
              "      <td>0.0</td>\n",
              "      <td>0.000000</td>\n",
              "      <td>0.000000</td>\n",
              "      <td>1.550513</td>\n",
              "      <td>8.844923</td>\n",
              "      <td>0.376718</td>\n",
              "      <td>6.152055</td>\n",
              "      <td>7.024347</td>\n",
              "      <td>10.212214</td>\n",
              "      <td>...</td>\n",
              "      <td>1.388888</td>\n",
              "      <td>0.334241</td>\n",
              "      <td>0.000000</td>\n",
              "      <td>0.000000</td>\n",
              "      <td>0.000000</td>\n",
              "      <td>0.000000</td>\n",
              "      <td>1.803975</td>\n",
              "      <td>0.403163</td>\n",
              "      <td>1.392109</td>\n",
              "      <td>0.207513</td>\n",
              "      <td>89.597115</td>\n",
              "      <td>12.007638</td>\n",
              "      <td>3.578575</td>\n",
              "      <td>0.000000</td>\n",
              "      <td>0.496665</td>\n",
              "      <td>0.000000</td>\n",
              "      <td>0.000000</td>\n",
              "      <td>0.000000</td>\n",
              "      <td>0.000000</td>\n",
              "      <td>39.621731</td>\n",
              "      <td>11.624801</td>\n",
              "      <td>16.166597</td>\n",
              "      <td>0.000000</td>\n",
              "      <td>0.0</td>\n",
              "      <td>0.000000</td>\n",
              "      <td>0.0</td>\n",
              "      <td>0.0</td>\n",
              "      <td>0.0</td>\n",
              "      <td>0.0</td>\n",
              "      <td>0.0</td>\n",
              "      <td>0.0</td>\n",
              "      <td>0.0</td>\n",
              "      <td>0.0</td>\n",
              "      <td>0.0</td>\n",
              "      <td>0.0</td>\n",
              "      <td>0.0</td>\n",
              "      <td>0.0</td>\n",
              "      <td>0.0</td>\n",
              "      <td>0.0</td>\n",
              "      <td>0.000000</td>\n",
              "    </tr>\n",
              "    <tr>\n",
              "      <th>1</th>\n",
              "      <td>0.0</td>\n",
              "      <td>0.000000</td>\n",
              "      <td>0.000000</td>\n",
              "      <td>0.0</td>\n",
              "      <td>0.0</td>\n",
              "      <td>13.200000</td>\n",
              "      <td>67.599998</td>\n",
              "      <td>0.000000</td>\n",
              "      <td>0.0</td>\n",
              "      <td>0.0</td>\n",
              "      <td>0.0</td>\n",
              "      <td>0.0</td>\n",
              "      <td>0.0</td>\n",
              "      <td>0.0</td>\n",
              "      <td>0.0</td>\n",
              "      <td>0.000000</td>\n",
              "      <td>0.0</td>\n",
              "      <td>0.0</td>\n",
              "      <td>0.0</td>\n",
              "      <td>0.0</td>\n",
              "      <td>0.0</td>\n",
              "      <td>0.000000</td>\n",
              "      <td>0.0</td>\n",
              "      <td>0.500000</td>\n",
              "      <td>0.0</td>\n",
              "      <td>0.0</td>\n",
              "      <td>0.0</td>\n",
              "      <td>0.0</td>\n",
              "      <td>0.0</td>\n",
              "      <td>0.0</td>\n",
              "      <td>0.0</td>\n",
              "      <td>0.0</td>\n",
              "      <td>0.000000</td>\n",
              "      <td>0.000000</td>\n",
              "      <td>1.000000</td>\n",
              "      <td>8.200000</td>\n",
              "      <td>0.000000</td>\n",
              "      <td>6.200000</td>\n",
              "      <td>6.400000</td>\n",
              "      <td>9.999999</td>\n",
              "      <td>...</td>\n",
              "      <td>1.400000</td>\n",
              "      <td>0.300000</td>\n",
              "      <td>0.000000</td>\n",
              "      <td>0.000000</td>\n",
              "      <td>0.000000</td>\n",
              "      <td>0.000000</td>\n",
              "      <td>1.800000</td>\n",
              "      <td>0.400000</td>\n",
              "      <td>1.200000</td>\n",
              "      <td>0.000000</td>\n",
              "      <td>90.099998</td>\n",
              "      <td>12.100000</td>\n",
              "      <td>3.600000</td>\n",
              "      <td>0.000000</td>\n",
              "      <td>0.500000</td>\n",
              "      <td>0.000000</td>\n",
              "      <td>0.000000</td>\n",
              "      <td>0.000000</td>\n",
              "      <td>0.000000</td>\n",
              "      <td>39.299999</td>\n",
              "      <td>11.200000</td>\n",
              "      <td>15.699999</td>\n",
              "      <td>0.000000</td>\n",
              "      <td>0.0</td>\n",
              "      <td>0.000000</td>\n",
              "      <td>0.0</td>\n",
              "      <td>0.0</td>\n",
              "      <td>0.0</td>\n",
              "      <td>0.0</td>\n",
              "      <td>0.0</td>\n",
              "      <td>0.0</td>\n",
              "      <td>0.0</td>\n",
              "      <td>0.0</td>\n",
              "      <td>0.0</td>\n",
              "      <td>0.0</td>\n",
              "      <td>0.0</td>\n",
              "      <td>0.0</td>\n",
              "      <td>0.0</td>\n",
              "      <td>0.0</td>\n",
              "      <td>0.000000</td>\n",
              "    </tr>\n",
              "    <tr>\n",
              "      <th>2</th>\n",
              "      <td>0.0</td>\n",
              "      <td>0.467299</td>\n",
              "      <td>10.927622</td>\n",
              "      <td>0.0</td>\n",
              "      <td>0.0</td>\n",
              "      <td>18.999964</td>\n",
              "      <td>27.752983</td>\n",
              "      <td>2.414766</td>\n",
              "      <td>0.0</td>\n",
              "      <td>0.0</td>\n",
              "      <td>0.0</td>\n",
              "      <td>0.0</td>\n",
              "      <td>0.0</td>\n",
              "      <td>0.0</td>\n",
              "      <td>0.0</td>\n",
              "      <td>1.369569</td>\n",
              "      <td>0.0</td>\n",
              "      <td>0.0</td>\n",
              "      <td>0.0</td>\n",
              "      <td>0.0</td>\n",
              "      <td>0.0</td>\n",
              "      <td>0.360413</td>\n",
              "      <td>0.0</td>\n",
              "      <td>0.000000</td>\n",
              "      <td>0.0</td>\n",
              "      <td>0.0</td>\n",
              "      <td>0.0</td>\n",
              "      <td>0.0</td>\n",
              "      <td>0.0</td>\n",
              "      <td>0.0</td>\n",
              "      <td>0.0</td>\n",
              "      <td>0.0</td>\n",
              "      <td>0.000000</td>\n",
              "      <td>14.526440</td>\n",
              "      <td>64.651741</td>\n",
              "      <td>73.274498</td>\n",
              "      <td>57.770893</td>\n",
              "      <td>11.917695</td>\n",
              "      <td>42.063477</td>\n",
              "      <td>12.755408</td>\n",
              "      <td>...</td>\n",
              "      <td>0.216248</td>\n",
              "      <td>1.717141</td>\n",
              "      <td>1.925037</td>\n",
              "      <td>0.708858</td>\n",
              "      <td>0.764188</td>\n",
              "      <td>5.748577</td>\n",
              "      <td>5.270830</td>\n",
              "      <td>0.120367</td>\n",
              "      <td>55.314716</td>\n",
              "      <td>46.596664</td>\n",
              "      <td>35.428005</td>\n",
              "      <td>7.249142</td>\n",
              "      <td>1.708353</td>\n",
              "      <td>14.428653</td>\n",
              "      <td>2.967422</td>\n",
              "      <td>0.930822</td>\n",
              "      <td>10.031169</td>\n",
              "      <td>15.998048</td>\n",
              "      <td>1.297486</td>\n",
              "      <td>47.926792</td>\n",
              "      <td>57.011959</td>\n",
              "      <td>62.661652</td>\n",
              "      <td>2.692502</td>\n",
              "      <td>0.0</td>\n",
              "      <td>7.280339</td>\n",
              "      <td>0.0</td>\n",
              "      <td>0.0</td>\n",
              "      <td>0.0</td>\n",
              "      <td>0.0</td>\n",
              "      <td>0.0</td>\n",
              "      <td>0.0</td>\n",
              "      <td>0.0</td>\n",
              "      <td>0.0</td>\n",
              "      <td>0.0</td>\n",
              "      <td>0.0</td>\n",
              "      <td>0.0</td>\n",
              "      <td>0.0</td>\n",
              "      <td>0.0</td>\n",
              "      <td>0.0</td>\n",
              "      <td>0.000000</td>\n",
              "    </tr>\n",
              "    <tr>\n",
              "      <th>3</th>\n",
              "      <td>0.0</td>\n",
              "      <td>0.469477</td>\n",
              "      <td>6.805963</td>\n",
              "      <td>0.0</td>\n",
              "      <td>0.0</td>\n",
              "      <td>23.731779</td>\n",
              "      <td>33.303631</td>\n",
              "      <td>0.000000</td>\n",
              "      <td>0.0</td>\n",
              "      <td>0.0</td>\n",
              "      <td>0.0</td>\n",
              "      <td>0.0</td>\n",
              "      <td>0.0</td>\n",
              "      <td>0.0</td>\n",
              "      <td>0.0</td>\n",
              "      <td>0.000000</td>\n",
              "      <td>0.0</td>\n",
              "      <td>0.0</td>\n",
              "      <td>0.0</td>\n",
              "      <td>0.0</td>\n",
              "      <td>0.0</td>\n",
              "      <td>0.000000</td>\n",
              "      <td>0.0</td>\n",
              "      <td>0.000000</td>\n",
              "      <td>0.0</td>\n",
              "      <td>0.0</td>\n",
              "      <td>0.0</td>\n",
              "      <td>0.0</td>\n",
              "      <td>0.0</td>\n",
              "      <td>0.0</td>\n",
              "      <td>0.0</td>\n",
              "      <td>0.0</td>\n",
              "      <td>0.000000</td>\n",
              "      <td>1.745252</td>\n",
              "      <td>78.531937</td>\n",
              "      <td>90.223160</td>\n",
              "      <td>44.558865</td>\n",
              "      <td>0.179480</td>\n",
              "      <td>53.687874</td>\n",
              "      <td>20.703924</td>\n",
              "      <td>...</td>\n",
              "      <td>0.000000</td>\n",
              "      <td>3.005154</td>\n",
              "      <td>0.891532</td>\n",
              "      <td>0.000000</td>\n",
              "      <td>0.260821</td>\n",
              "      <td>3.967124</td>\n",
              "      <td>4.839724</td>\n",
              "      <td>2.360369</td>\n",
              "      <td>24.194036</td>\n",
              "      <td>38.366489</td>\n",
              "      <td>30.841822</td>\n",
              "      <td>1.334781</td>\n",
              "      <td>1.103304</td>\n",
              "      <td>7.715899</td>\n",
              "      <td>0.867365</td>\n",
              "      <td>1.613301</td>\n",
              "      <td>4.776968</td>\n",
              "      <td>0.357280</td>\n",
              "      <td>0.000000</td>\n",
              "      <td>58.134678</td>\n",
              "      <td>73.467232</td>\n",
              "      <td>79.234886</td>\n",
              "      <td>2.913511</td>\n",
              "      <td>0.0</td>\n",
              "      <td>0.000000</td>\n",
              "      <td>0.0</td>\n",
              "      <td>0.0</td>\n",
              "      <td>0.0</td>\n",
              "      <td>0.0</td>\n",
              "      <td>0.0</td>\n",
              "      <td>0.0</td>\n",
              "      <td>0.0</td>\n",
              "      <td>0.0</td>\n",
              "      <td>0.0</td>\n",
              "      <td>0.0</td>\n",
              "      <td>0.0</td>\n",
              "      <td>0.0</td>\n",
              "      <td>0.0</td>\n",
              "      <td>0.0</td>\n",
              "      <td>0.170385</td>\n",
              "    </tr>\n",
              "    <tr>\n",
              "      <th>4</th>\n",
              "      <td>0.0</td>\n",
              "      <td>0.000000</td>\n",
              "      <td>6.611897</td>\n",
              "      <td>0.0</td>\n",
              "      <td>0.0</td>\n",
              "      <td>10.257844</td>\n",
              "      <td>56.923618</td>\n",
              "      <td>0.000000</td>\n",
              "      <td>0.0</td>\n",
              "      <td>0.0</td>\n",
              "      <td>0.0</td>\n",
              "      <td>0.0</td>\n",
              "      <td>0.0</td>\n",
              "      <td>0.0</td>\n",
              "      <td>0.0</td>\n",
              "      <td>0.000000</td>\n",
              "      <td>0.0</td>\n",
              "      <td>0.0</td>\n",
              "      <td>0.0</td>\n",
              "      <td>0.0</td>\n",
              "      <td>0.0</td>\n",
              "      <td>0.000000</td>\n",
              "      <td>0.0</td>\n",
              "      <td>0.367834</td>\n",
              "      <td>0.0</td>\n",
              "      <td>0.0</td>\n",
              "      <td>0.0</td>\n",
              "      <td>0.0</td>\n",
              "      <td>0.0</td>\n",
              "      <td>0.0</td>\n",
              "      <td>0.0</td>\n",
              "      <td>0.0</td>\n",
              "      <td>0.235341</td>\n",
              "      <td>3.821460</td>\n",
              "      <td>5.801683</td>\n",
              "      <td>8.620442</td>\n",
              "      <td>1.493381</td>\n",
              "      <td>4.683495</td>\n",
              "      <td>7.947594</td>\n",
              "      <td>8.479486</td>\n",
              "      <td>...</td>\n",
              "      <td>1.265277</td>\n",
              "      <td>0.355482</td>\n",
              "      <td>0.000000</td>\n",
              "      <td>0.000000</td>\n",
              "      <td>0.000000</td>\n",
              "      <td>0.537301</td>\n",
              "      <td>11.886994</td>\n",
              "      <td>8.460486</td>\n",
              "      <td>18.896152</td>\n",
              "      <td>2.159250</td>\n",
              "      <td>85.179817</td>\n",
              "      <td>8.914422</td>\n",
              "      <td>2.909730</td>\n",
              "      <td>0.414099</td>\n",
              "      <td>3.806158</td>\n",
              "      <td>2.372265</td>\n",
              "      <td>0.000000</td>\n",
              "      <td>1.060152</td>\n",
              "      <td>0.000000</td>\n",
              "      <td>38.465660</td>\n",
              "      <td>11.659060</td>\n",
              "      <td>13.772415</td>\n",
              "      <td>1.674855</td>\n",
              "      <td>0.0</td>\n",
              "      <td>0.000000</td>\n",
              "      <td>0.0</td>\n",
              "      <td>0.0</td>\n",
              "      <td>0.0</td>\n",
              "      <td>0.0</td>\n",
              "      <td>0.0</td>\n",
              "      <td>0.0</td>\n",
              "      <td>0.0</td>\n",
              "      <td>0.0</td>\n",
              "      <td>0.0</td>\n",
              "      <td>0.0</td>\n",
              "      <td>0.0</td>\n",
              "      <td>0.0</td>\n",
              "      <td>0.0</td>\n",
              "      <td>0.0</td>\n",
              "      <td>0.543626</td>\n",
              "    </tr>\n",
              "  </tbody>\n",
              "</table>\n",
              "<p>5 rows × 122 columns</p>\n",
              "</div>"
            ],
            "text/plain": [
              "   0         1          2    3    4    ...  117  118  119  120       121\n",
              "0  0.0  0.000000   0.000000  0.0  0.0  ...  0.0  0.0  0.0  0.0  0.000000\n",
              "1  0.0  0.000000   0.000000  0.0  0.0  ...  0.0  0.0  0.0  0.0  0.000000\n",
              "2  0.0  0.467299  10.927622  0.0  0.0  ...  0.0  0.0  0.0  0.0  0.000000\n",
              "3  0.0  0.469477   6.805963  0.0  0.0  ...  0.0  0.0  0.0  0.0  0.170385\n",
              "4  0.0  0.000000   6.611897  0.0  0.0  ...  0.0  0.0  0.0  0.0  0.543626\n",
              "\n",
              "[5 rows x 122 columns]"
            ]
          },
          "metadata": {
            "tags": []
          },
          "execution_count": 35
        }
      ]
    },
    {
      "cell_type": "code",
      "metadata": {
        "id": "c5OacTnQkoPi",
        "colab_type": "code",
        "colab": {}
      },
      "source": [
        "y_train_d = train_data.iloc[158,2:]\n",
        "y_train_d = y_train_d.reset_index(drop=True)\n",
        "y_test_d = test_data.iloc[158,2:]\n",
        "y_test_d = y_test_d.reset_index(drop=True)"
      ],
      "execution_count": 0,
      "outputs": []
    },
    {
      "cell_type": "code",
      "metadata": {
        "id": "7jRQHR9gm9Eo",
        "colab_type": "code",
        "outputId": "7ad5dbd1-baaf-4037-b48f-a22a0de3f036",
        "colab": {
          "base_uri": "https://localhost:8080/",
          "height": 85
        }
      },
      "source": [
        "print(x_train_d.T.shape)\n",
        "print(y_train_d.shape)\n",
        "print(x_test_d.T.shape)\n",
        "print(y_test_d.shape)"
      ],
      "execution_count": 0,
      "outputs": [
        {
          "output_type": "stream",
          "text": [
            "(120, 358)\n",
            "(120,)\n",
            "(120, 358)\n",
            "(120,)\n"
          ],
          "name": "stdout"
        }
      ]
    },
    {
      "cell_type": "code",
      "metadata": {
        "id": "6yfj2z8cnE_U",
        "colab_type": "code",
        "colab": {}
      },
      "source": [
        "reg = LinearRegression()\n",
        "reg.fit(x_train_d.T,y_train_d)\n",
        "y_pred = reg.predict(x_test_d.T)\n",
        "for i in range(len(y_pred)):\n",
        "  if(y_pred[i]<0):\n",
        "    y_pred[i]=0"
      ],
      "execution_count": 0,
      "outputs": []
    },
    {
      "cell_type": "code",
      "metadata": {
        "id": "7Fs3lj0uosig",
        "colab_type": "code",
        "outputId": "2a722b8d-fdc2-40ec-925b-5c422c7ab2ee",
        "colab": {
          "base_uri": "https://localhost:8080/",
          "height": 34
        }
      },
      "source": [
        "RMSE_delhi = mean_squared_error(y_test_d,y_pred)**0.5\n",
        "print(\"RMSE_delhi:\" + str(RMSE_delhi))"
      ],
      "execution_count": 0,
      "outputs": [
        {
          "output_type": "stream",
          "text": [
            "RMSE_delhi:12.382066286457418\n"
          ],
          "name": "stdout"
        }
      ]
    },
    {
      "cell_type": "markdown",
      "metadata": {
        "id": "ukYubAmr555C",
        "colab_type": "text"
      },
      "source": [
        "For KGP(s=299)"
      ]
    },
    {
      "cell_type": "code",
      "metadata": {
        "id": "-OTvaHze3g1U",
        "colab_type": "code",
        "colab": {}
      },
      "source": [
        "x_train_k = preprocess(299,train_data)\n",
        "x_test_k = preprocess(299, test_data)"
      ],
      "execution_count": 0,
      "outputs": []
    },
    {
      "cell_type": "code",
      "metadata": {
        "id": "hif33QRG6EA9",
        "colab_type": "code",
        "outputId": "98ee4925-aeb1-425f-8c6e-62f2628a704d",
        "colab": {
          "base_uri": "https://localhost:8080/",
          "height": 85
        }
      },
      "source": [
        "y_train_k = train_data.iloc[299,2:]\n",
        "y_train_k = y_train_k.reset_index(drop=True)\n",
        "y_test_k = test_data.iloc[299,2:]\n",
        "y_test_k = y_test_k.reset_index(drop=True)\n",
        "\n",
        "print(x_train_k.T.shape)\n",
        "print(y_train_k.shape)\n",
        "print(x_test_k.T.shape)\n",
        "print(y_test_k.shape)"
      ],
      "execution_count": 0,
      "outputs": [
        {
          "output_type": "stream",
          "text": [
            "(120, 358)\n",
            "(120,)\n",
            "(120, 358)\n",
            "(120,)\n"
          ],
          "name": "stdout"
        }
      ]
    },
    {
      "cell_type": "code",
      "metadata": {
        "id": "2jofJ4rw6N-I",
        "colab_type": "code",
        "colab": {}
      },
      "source": [
        "reg = LinearRegression()\n",
        "reg.fit(x_train_k.T,y_train_k)\n",
        "y_pred = reg.predict(x_test_k.T)\n",
        "for i in range(len(y_pred)):\n",
        "  if(y_pred[i]<0):\n",
        "    y_pred[i]=0"
      ],
      "execution_count": 0,
      "outputs": []
    },
    {
      "cell_type": "code",
      "metadata": {
        "id": "udWroC4n6VqW",
        "colab_type": "code",
        "outputId": "c54d20f2-4fd7-46b7-a2ba-a2959c8c57b1",
        "colab": {
          "base_uri": "https://localhost:8080/",
          "height": 34
        }
      },
      "source": [
        "RMSE_kgp = mean_squared_error(y_test_k,y_pred)**0.5\n",
        "print(\"RMSE_kgp:\" + str(RMSE_kgp))"
      ],
      "execution_count": 0,
      "outputs": [
        {
          "output_type": "stream",
          "text": [
            "RMSE_kgp:16.019991846393566\n"
          ],
          "name": "stdout"
        }
      ]
    },
    {
      "cell_type": "markdown",
      "metadata": {
        "id": "W2rtlYpE6wrE",
        "colab_type": "text"
      },
      "source": [
        "For Mumbai(s=42)"
      ]
    },
    {
      "cell_type": "code",
      "metadata": {
        "id": "4ZCLlX3Q6aBe",
        "colab_type": "code",
        "colab": {}
      },
      "source": [
        "x_train_m = preprocess(42,train_data)\n",
        "x_test_m = preprocess(42, test_data)"
      ],
      "execution_count": 0,
      "outputs": []
    },
    {
      "cell_type": "code",
      "metadata": {
        "id": "aj09gP6D63qF",
        "colab_type": "code",
        "outputId": "e0fc665e-cb10-4772-b2c8-c7e9c8ac1bd9",
        "colab": {
          "base_uri": "https://localhost:8080/",
          "height": 85
        }
      },
      "source": [
        "y_train_m = train_data.iloc[42,2:]\n",
        "y_train_m = y_train_m.reset_index(drop=True)\n",
        "y_test_m = test_data.iloc[42,2:]\n",
        "y_test_m = y_test_m.reset_index(drop=True)\n",
        "\n",
        "print(x_train_m.T.shape)\n",
        "print(y_train_m.shape)\n",
        "print(x_test_m.T.shape)\n",
        "print(y_test_m.shape)"
      ],
      "execution_count": 0,
      "outputs": [
        {
          "output_type": "stream",
          "text": [
            "(120, 358)\n",
            "(120,)\n",
            "(120, 358)\n",
            "(120,)\n"
          ],
          "name": "stdout"
        }
      ]
    },
    {
      "cell_type": "code",
      "metadata": {
        "id": "Tv9Ygveg68Q5",
        "colab_type": "code",
        "colab": {}
      },
      "source": [
        "reg = LinearRegression()\n",
        "reg.fit(x_train_m.T,y_train_m)\n",
        "y_pred = reg.predict(x_test_m.T)\n",
        "for i in range(len(y_pred)):\n",
        "  if(y_pred[i]<0):\n",
        "    y_pred[i]=0"
      ],
      "execution_count": 0,
      "outputs": []
    },
    {
      "cell_type": "code",
      "metadata": {
        "id": "PFtIiNYI6--a",
        "colab_type": "code",
        "outputId": "06ac5aca-9b45-43ea-fa8a-08cb15a46a59",
        "colab": {
          "base_uri": "https://localhost:8080/",
          "height": 34
        }
      },
      "source": [
        "RMSE_mumbai = mean_squared_error(y_test_m,y_pred)**0.5\n",
        "print(\"RMSE_Mumbai:\" + str(RMSE_mumbai))"
      ],
      "execution_count": 0,
      "outputs": [
        {
          "output_type": "stream",
          "text": [
            "RMSE_Mumbai:24.918176903937603\n"
          ],
          "name": "stdout"
        }
      ]
    },
    {
      "cell_type": "markdown",
      "metadata": {
        "id": "7mvQsdKX7kD7",
        "colab_type": "text"
      },
      "source": [
        "# Lasso Regression"
      ]
    },
    {
      "cell_type": "code",
      "metadata": {
        "id": "JlCgGlQo7FXg",
        "colab_type": "code",
        "colab": {}
      },
      "source": [
        "from sklearn.linear_model import Lasso\n",
        "reg = Lasso()"
      ],
      "execution_count": 0,
      "outputs": []
    },
    {
      "cell_type": "markdown",
      "metadata": {
        "id": "4-iQ62469_L4",
        "colab_type": "text"
      },
      "source": [
        "For Mumbai"
      ]
    },
    {
      "cell_type": "code",
      "metadata": {
        "id": "Ho_w-9dR99sC",
        "colab_type": "code",
        "outputId": "9d62c809-f624-40e3-ee6a-d0ce28856fe3",
        "colab": {
          "base_uri": "https://localhost:8080/",
          "height": 34
        }
      },
      "source": [
        "reg.fit(x_train_m.T,y_train_m)\n",
        "y_pred = reg.predict(x_test_m.T)\n",
        "for i in range(len(y_pred)):\n",
        "  if(y_pred[i]<0):\n",
        "    y_pred[i]=0\n",
        "\n",
        "RMSE_mumbai = mean_squared_error(y_test_m,y_pred)**0.5\n",
        "print(\"RMSE_Mumbai_lasso:\" + str(RMSE_mumbai))"
      ],
      "execution_count": 0,
      "outputs": [
        {
          "output_type": "stream",
          "text": [
            "RMSE_Mumbai_lasso:25.02872946789516\n"
          ],
          "name": "stdout"
        }
      ]
    },
    {
      "cell_type": "code",
      "metadata": {
        "id": "XffA-JDZ-dXe",
        "colab_type": "code",
        "outputId": "f40657b9-7037-47c9-d39a-c5e04358cdb5",
        "colab": {
          "base_uri": "https://localhost:8080/",
          "height": 34
        }
      },
      "source": [
        "coeff_mumbai = reg.coef_\n",
        "coeff_mumbai = np.abs(coeff_mumbai)\n",
        "index_mumbai = coeff_mumbai.argsort()[-5:][::-1]\n",
        "print(\"Top predictors for Mumbai \" +str(index_mumbai))"
      ],
      "execution_count": 0,
      "outputs": [
        {
          "output_type": "stream",
          "text": [
            "Top predictors for Mumbai [26 25 47 92 90]\n"
          ],
          "name": "stdout"
        }
      ]
    },
    {
      "cell_type": "markdown",
      "metadata": {
        "id": "2KDkNN2S_Byu",
        "colab_type": "text"
      },
      "source": [
        "For KGP"
      ]
    },
    {
      "cell_type": "code",
      "metadata": {
        "id": "YRUnOYmv-zXi",
        "colab_type": "code",
        "outputId": "6f83b3ca-7173-460f-8b84-aaebb964e4d0",
        "colab": {
          "base_uri": "https://localhost:8080/",
          "height": 34
        }
      },
      "source": [
        "reg.fit(x_train_k.T,y_train_k)\n",
        "y_pred = reg.predict(x_test_k.T)\n",
        "for i in range(len(y_pred)):\n",
        "  if(y_pred[i]<0):\n",
        "    y_pred[i]=0\n",
        "\n",
        "RMSE_kgp = mean_squared_error(y_test_k,y_pred)**0.5\n",
        "print(\"RMSE_KGP_lasso:\" + str(RMSE_kgp))"
      ],
      "execution_count": 0,
      "outputs": [
        {
          "output_type": "stream",
          "text": [
            "RMSE_KGP_lasso:14.755040166748751\n"
          ],
          "name": "stdout"
        }
      ]
    },
    {
      "cell_type": "code",
      "metadata": {
        "id": "pgs66JhD_MRC",
        "colab_type": "code",
        "outputId": "a81b54cf-510f-4e86-efeb-5c86029af53f",
        "colab": {
          "base_uri": "https://localhost:8080/",
          "height": 34
        }
      },
      "source": [
        "coeff_kgp = reg.coef_\n",
        "coeff_kgp = np.abs(coeff_kgp)\n",
        "index_kgp = coeff_kgp.argsort()[-5:][::-1]\n",
        "print(\"Top predictors for Kgp: \" +str(index_kgp))"
      ],
      "execution_count": 0,
      "outputs": [
        {
          "output_type": "stream",
          "text": [
            "Top predictors for Kgp: [ 50 203 298 210  51]\n"
          ],
          "name": "stdout"
        }
      ]
    },
    {
      "cell_type": "markdown",
      "metadata": {
        "id": "Rsmsy9Jn_tCP",
        "colab_type": "text"
      },
      "source": [
        "For Delhi"
      ]
    },
    {
      "cell_type": "code",
      "metadata": {
        "id": "LYTZjBxR_XXm",
        "colab_type": "code",
        "outputId": "c803f053-f3e6-47f9-fa38-3fce0b193632",
        "colab": {
          "base_uri": "https://localhost:8080/",
          "height": 34
        }
      },
      "source": [
        "reg.fit(x_train_d.T,y_train_d)\n",
        "y_pred = reg.predict(x_test_d.T)\n",
        "for i in range(len(y_pred)):\n",
        "  if(y_pred[i]<0):\n",
        "    y_pred[i]=0\n",
        "\n",
        "RMSE_d = mean_squared_error(y_test_d,y_pred)**0.5\n",
        "print(\"RMSE_Delhi_lasso:\" + str(RMSE_d))"
      ],
      "execution_count": 0,
      "outputs": [
        {
          "output_type": "stream",
          "text": [
            "RMSE_Delhi_lasso:11.116010155290185\n"
          ],
          "name": "stdout"
        }
      ]
    },
    {
      "cell_type": "code",
      "metadata": {
        "id": "dxI0zdLT_4dt",
        "colab_type": "code",
        "outputId": "1ace8a61-4574-4fe4-b662-8f6130658a5f",
        "colab": {
          "base_uri": "https://localhost:8080/",
          "height": 34
        }
      },
      "source": [
        "coeff_delhi = reg.coef_\n",
        "coeff_delhi = np.abs(coeff_delhi)\n",
        "index_delhi = coeff_delhi.argsort()[-5:][::-1]\n",
        "print(\"Top predictors for delhi \" +str(index_delhi))"
      ],
      "execution_count": 0,
      "outputs": [
        {
          "output_type": "stream",
          "text": [
            "Top predictors for delhi [117 131  74 115 357]\n"
          ],
          "name": "stdout"
        }
      ]
    },
    {
      "cell_type": "markdown",
      "metadata": {
        "id": "tGDtyUeoA0ew",
        "colab_type": "text"
      },
      "source": [
        "# Decision Tree Classification"
      ]
    },
    {
      "cell_type": "code",
      "metadata": {
        "id": "yx8g2d9eAES_",
        "colab_type": "code",
        "colab": {}
      },
      "source": [
        "x_train = pd.DataFrame(train['XR1'])\n",
        "y_train = pd.DataFrame(train['ZR1'])\n",
        "x_test = pd.DataFrame(test['XR'])\n",
        "y_test = pd.DataFrame(test['ZR'])"
      ],
      "execution_count": 0,
      "outputs": []
    },
    {
      "cell_type": "code",
      "metadata": {
        "id": "Bnf2zP1_BSmu",
        "colab_type": "code",
        "outputId": "844830d3-a72b-44b6-d3bd-ce2828a92af8",
        "colab": {
          "base_uri": "https://localhost:8080/",
          "height": 85
        }
      },
      "source": [
        "print(x_train.T.shape)\n",
        "print(y_train.T.shape)\n",
        "print(x_test.T.shape)\n",
        "print(y_test.T.shape)"
      ],
      "execution_count": 0,
      "outputs": [
        {
          "output_type": "stream",
          "text": [
            "(122, 357)\n",
            "(122, 1)\n",
            "(122, 357)\n",
            "(122, 1)\n"
          ],
          "name": "stdout"
        }
      ]
    },
    {
      "cell_type": "code",
      "metadata": {
        "id": "uzcy8PO3BTz8",
        "colab_type": "code",
        "outputId": "6795b735-d685-4f36-eec4-aefde9888083",
        "colab": {
          "base_uri": "https://localhost:8080/",
          "height": 255
        }
      },
      "source": [
        "print(y_train.T.head())\n",
        "print(x_train.T.head())"
      ],
      "execution_count": 0,
      "outputs": [
        {
          "output_type": "stream",
          "text": [
            "   0\n",
            "0  0\n",
            "1  0\n",
            "2  0\n",
            "3  0\n",
            "4  0\n",
            "   0    1          2         3         4    ...        352        353  354  355  356\n",
            "0  0.0  0.0   0.000000  0.000000  0.000000  ...  15.400000  10.266666  0.0  0.0  0.0\n",
            "1  0.0  0.0   0.467299  0.469477  0.000000  ...  22.299999  14.866666  0.0  0.0  0.0\n",
            "2  0.0  0.0  10.927622  6.805963  6.611897  ...   3.600000   2.400000  0.0  0.0  0.0\n",
            "3  0.0  0.0   0.000000  0.000000  0.000000  ...  18.700003  12.466667  0.0  0.0  0.0\n",
            "4  0.0  0.0   0.000000  0.000000  0.000000  ...   5.200000   3.466666  0.0  0.0  0.0\n",
            "\n",
            "[5 rows x 357 columns]\n"
          ],
          "name": "stdout"
        }
      ]
    },
    {
      "cell_type": "code",
      "metadata": {
        "id": "y6Y6j9QZBlM3",
        "colab_type": "code",
        "outputId": "172aeb00-39ec-42f1-dc9a-0ef12f085b51",
        "colab": {
          "base_uri": "https://localhost:8080/",
          "height": 34
        }
      },
      "source": [
        "# Training the decision tree\n",
        "clf = DecisionTreeClassifier()\n",
        "clf.fit(x_train.T,y_train.T)\n",
        "y_pred = clf.predict(x_test.T)\n",
        "accuracy = accuracy_score(y_test.T,y_pred)\n",
        "print(\"Accuracy :\" + str(accuracy))"
      ],
      "execution_count": 0,
      "outputs": [
        {
          "output_type": "stream",
          "text": [
            "Accuracy :0.7459016393442623\n"
          ],
          "name": "stdout"
        }
      ]
    },
    {
      "cell_type": "code",
      "metadata": {
        "id": "FGe9U3BCEQNy",
        "colab_type": "code",
        "outputId": "c62b2474-2573-458f-92d0-7c1aed928203",
        "colab": {
          "base_uri": "https://localhost:8080/",
          "height": 34
        }
      },
      "source": [
        "# Top 10 descriminative features(locations)\n",
        "clf.feature_importances_.argsort()[-10:][::-1]"
      ],
      "execution_count": 0,
      "outputs": [
        {
          "output_type": "execute_result",
          "data": {
            "text/plain": [
              "array([184, 252, 189,  26, 205, 159, 346, 253, 168, 119])"
            ]
          },
          "metadata": {
            "tags": []
          },
          "execution_count": 92
        }
      ]
    }
  ]
}