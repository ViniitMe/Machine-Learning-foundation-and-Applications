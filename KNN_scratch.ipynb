{
  "nbformat": 4,
  "nbformat_minor": 0,
  "metadata": {
    "colab": {
      "name": "KNN_scratch.ipynb",
      "provenance": [],
      "collapsed_sections": [],
      "include_colab_link": true
    },
    "kernelspec": {
      "name": "python3",
      "display_name": "Python 3"
    }
  },
  "cells": [
    {
      "cell_type": "markdown",
      "metadata": {
        "id": "view-in-github",
        "colab_type": "text"
      },
      "source": [
        "<a href=\"https://colab.research.google.com/github/ViniitMe/Machine-Learning-foundation-and-Applications/blob/master/KNN_scratch.ipynb\" target=\"_parent\"><img src=\"https://colab.research.google.com/assets/colab-badge.svg\" alt=\"Open In Colab\"/></a>"
      ]
    },
    {
      "cell_type": "markdown",
      "metadata": {
        "id": "QQDKzBf-lodu",
        "colab_type": "text"
      },
      "source": [
        "#Assignment 2 | Vinit Kumar"
      ]
    },
    {
      "cell_type": "code",
      "metadata": {
        "id": "5BqO9QqMlvDP",
        "colab_type": "code",
        "colab": {}
      },
      "source": [
        "import pandas as pd\n",
        "import numpy as np\n",
        "import keras\n",
        "from keras import datasets\n",
        "from nltk.corpus import stopwords\n",
        "from nltk.tokenize import word_tokenize\n",
        "import matplotlib.pyplot as plt\n",
        "from collections import defaultdict\n",
        "from sklearn.model_selection import train_test_split\n",
        "from sklearn.metrics import accuracy_score"
      ],
      "execution_count": 0,
      "outputs": []
    },
    {
      "cell_type": "code",
      "metadata": {
        "id": "ZnzR_vRknh4K",
        "colab_type": "code",
        "outputId": "0b4fa32b-6b28-4cb1-8160-859dbff183c5",
        "colab": {
          "base_uri": "https://localhost:8080/",
          "height": 51
        }
      },
      "source": [
        "(x_train, y_train), (x_test, y_test) = datasets.mnist.load_data()"
      ],
      "execution_count": 0,
      "outputs": [
        {
          "output_type": "stream",
          "text": [
            "Downloading data from https://s3.amazonaws.com/img-datasets/mnist.npz\n",
            "11493376/11490434 [==============================] - 1s 0us/step\n"
          ],
          "name": "stdout"
        }
      ]
    },
    {
      "cell_type": "code",
      "metadata": {
        "id": "mkRFvsdoqpj3",
        "colab_type": "code",
        "colab": {}
      },
      "source": [
        "x_train = x_train[0:1000]\n",
        "y_train = y_train[0:1000]\n",
        "x_test = x_test[0:100]\n",
        "y_test = y_test[0:100]"
      ],
      "execution_count": 0,
      "outputs": []
    },
    {
      "cell_type": "code",
      "metadata": {
        "id": "YiT7iLS0n23g",
        "colab_type": "code",
        "outputId": "9e25623e-f1a4-488e-ee5b-9c71231bc2d3",
        "colab": {
          "base_uri": "https://localhost:8080/",
          "height": 85
        }
      },
      "source": [
        "print(\"x_train shape: \" + str(x_train.shape))\n",
        "print(\"y_train shape: \" + str(y_train.shape))\n",
        "print(\"x_test shape: \" + str(x_test.shape))\n",
        "print(\"y_test shape: \" + str(y_test.shape))\n"
      ],
      "execution_count": 0,
      "outputs": [
        {
          "output_type": "stream",
          "text": [
            "x_train shape: (1000, 28, 28)\n",
            "y_train shape: (1000,)\n",
            "x_test shape: (100, 28, 28)\n",
            "y_test shape: (100,)\n"
          ],
          "name": "stdout"
        }
      ]
    },
    {
      "cell_type": "code",
      "metadata": {
        "id": "z-txmgRXokKI",
        "colab_type": "code",
        "outputId": "dec104a2-1591-4c12-ea2c-323581aeabae",
        "colab": {
          "base_uri": "https://localhost:8080/",
          "height": 286
        }
      },
      "source": [
        "plt.imshow(x_train[6])\n",
        "print(\"label:\" + str(y_train[6]))"
      ],
      "execution_count": 0,
      "outputs": [
        {
          "output_type": "stream",
          "text": [
            "label:1\n"
          ],
          "name": "stdout"
        },
        {
          "output_type": "display_data",
          "data": {
            "image/png": "[encoded data removed]",
            "text/plain": [
              "<Figure size 432x288 with 1 Axes>"
            ]
          },
          "metadata": {
            "tags": []
          }
        }
      ]
    },
    {
      "cell_type": "code",
      "metadata": {
        "id": "30Pdxfuen8zu",
        "colab_type": "code",
        "colab": {}
      },
      "source": [
        "# flattening into 1D vector\n",
        "num_pixels = x_train.shape[1] * x_train.shape[2]\n",
        "x_train = x_train.reshape(x_train.shape[0], num_pixels).astype('float32')\n",
        "x_test = x_test.reshape(x_test.shape[0], num_pixels).astype('float32')"
      ],
      "execution_count": 0,
      "outputs": []
    },
    {
      "cell_type": "code",
      "metadata": {
        "id": "5sAO_gLsrLmn",
        "colab_type": "code",
        "outputId": "7ccd6f4e-ca88-4e5a-d5d4-aa04b4bb7f72",
        "colab": {
          "base_uri": "https://localhost:8080/",
          "height": 34
        }
      },
      "source": [
        "x_train[0].shape"
      ],
      "execution_count": 0,
      "outputs": [
        {
          "output_type": "execute_result",
          "data": {
            "text/plain": [
              "(784,)"
            ]
          },
          "metadata": {
            "tags": []
          },
          "execution_count": 7
        }
      ]
    },
    {
      "cell_type": "code",
      "metadata": {
        "id": "K91xbKs4sIEx",
        "colab_type": "code",
        "colab": {}
      },
      "source": [
        "def euclideanDistance(point1, point2, length):\n",
        "  distance = 0\n",
        "  for x in range(length):\n",
        "    distance = distance + np.square(point1[x]-point2[x])\n",
        "  return np.sqrt(distance)"
      ],
      "execution_count": 0,
      "outputs": []
    },
    {
      "cell_type": "code",
      "metadata": {
        "id": "0j8HikJVtUBo",
        "colab_type": "code",
        "colab": {}
      },
      "source": [
        "def KNN(training_set, labels, test_instance, K):\n",
        "  distance = []\n",
        "  for i in range(len(training_set)):\n",
        "    dist = euclideanDistance(training_set[i], test_instance, 784)\n",
        "    distance.append((dist, labels[i]))\n",
        "  distance.sort(key=lambda x:x[0])\n",
        "  neighbors = distance[:K]\n",
        "  \n",
        "  vote = {}\n",
        "  for i in range(len(neighbors)):\n",
        "    response = neighbors[i][1]\n",
        "    if response in vote:\n",
        "      vote[response] += 1\n",
        "    else:\n",
        "      vote[response] = 1\n",
        "  sortedVote = sorted(vote.items(), key=lambda x:x[1], reverse=True )\n",
        "  return sortedVote[0][0]"
      ],
      "execution_count": 0,
      "outputs": []
    },
    {
      "cell_type": "code",
      "metadata": {
        "id": "nE2Ty1X8_GUU",
        "colab_type": "code",
        "colab": {}
      },
      "source": [
        "y_pred = np.zeros(100)\n",
        "for i in range(x_test.shape[0]):\n",
        "  neighbor = KNN(x_train, y_train, x_test[i], 5)\n",
        "  y_pred[i] = neighbor"
      ],
      "execution_count": 0,
      "outputs": []
    },
    {
      "cell_type": "code",
      "metadata": {
        "id": "R3BGjZsy6Dsg",
        "colab_type": "code",
        "outputId": "1f5634e6-6860-4c22-ec7c-331e9f5b5737",
        "colab": {
          "base_uri": "https://localhost:8080/",
          "height": 34
        }
      },
      "source": [
        "accuracy_score(y_test, y_pred)\n",
        "# Accuracy obtained = 0.85"
      ],
      "execution_count": 0,
      "outputs": [
        {
          "output_type": "execute_result",
          "data": {
            "text/plain": [
              "0.85"
            ]
          },
          "metadata": {
            "tags": []
          },
          "execution_count": 15
        }
      ]
    },
    {
      "cell_type": "code",
      "metadata": {
        "id": "2cgKYUV4u67d",
        "colab_type": "code",
        "outputId": "6c4d74a0-5dfc-4707-9335-49ac185070ba",
        "colab": {
          "base_uri": "https://localhost:8080/",
          "height": 68
        }
      },
      "source": [
        "#Cross checking\n",
        "from sklearn.neighbors import KNeighborsClassifier\n",
        "from sklearn.metrics import accuracy_score\n",
        "clf = KNeighborsClassifier(n_neighbors=5)\n",
        "clf.fit(x_train,y_train)"
      ],
      "execution_count": 0,
      "outputs": [
        {
          "output_type": "execute_result",
          "data": {
            "text/plain": [
              "KNeighborsClassifier(algorithm='auto', leaf_size=30, metric='minkowski',\n",
              "                     metric_params=None, n_jobs=None, n_neighbors=5, p=2,\n",
              "                     weights='uniform')"
            ]
          },
          "metadata": {
            "tags": []
          },
          "execution_count": 16
        }
      ]
    },
    {
      "cell_type": "code",
      "metadata": {
        "id": "Zx7MyqTAwRsK",
        "colab_type": "code",
        "colab": {}
      },
      "source": [
        "y_pred = clf.predict(x_test)\n",
        "accuracy_score(y_test, y_pred)"
      ],
      "execution_count": 0,
      "outputs": []
    },
    {
      "cell_type": "code",
      "metadata": {
        "id": "cNC8A2d0wZsG",
        "colab_type": "code",
        "colab": {}
      },
      "source": [
        "K = [5, 7, 10, 15, 20, 25, 50]\n",
        "acc = []\n",
        "for i in range(len(K)):\n",
        "  clf = KNeighborsClassifier(n_neighbors=K[i])\n",
        "  clf.fit(x_train,y_train)\n",
        "  y_pred = clf.predict(x_test)\n",
        "  acc.append(accuracy_score(y_test, y_pred))"
      ],
      "execution_count": 0,
      "outputs": []
    },
    {
      "cell_type": "code",
      "metadata": {
        "id": "mwB5RGhYAX5L",
        "colab_type": "code",
        "outputId": "7bc4a7ea-5d5e-451a-d6a2-75b2b9d8c3d9",
        "colab": {
          "base_uri": "https://localhost:8080/",
          "height": 283
        }
      },
      "source": [
        "# Plotting accuracy vs K value\n",
        "plt.plot(K, acc)\n",
        "plt.xlabel('K')\n",
        "plt.ylabel('accuracy')\n",
        "plt.grid()\n",
        "plt.show()"
      ],
      "execution_count": 0,
      "outputs": [
        {
          "output_type": "display_data",
          "data": {
            "image/png": "[encoded data removed]",
            "text/plain": [
              "<Figure size 432x288 with 1 Axes>"
            ]
          },
          "metadata": {
            "tags": []
          }
        }
      ]
    },
    {
      "cell_type": "code",
      "metadata": {
        "id": "CrrofoXbCAiI",
        "colab_type": "code",
        "outputId": "c2431b4e-df8b-4f27-eaff-da425a199170",
        "colab": {
          "base_uri": "https://localhost:8080/",
          "height": 187
        }
      },
      "source": [
        "# Confusion Matrix for K = 10\n",
        "from sklearn.metrics import confusion_matrix as cMat\n",
        "results = cMat(y_test, y_pred)\n",
        "print(results)"
      ],
      "execution_count": 0,
      "outputs": [
        {
          "output_type": "stream",
          "text": [
            "[[ 8  0  0  0  0  0  0  0  0  0]\n",
            " [ 0 14  0  0  0  0  0  0  0  0]\n",
            " [ 0  2  4  0  1  0  0  1  0  0]\n",
            " [ 0  1  0  9  0  0  0  0  0  1]\n",
            " [ 0  0  0  0 12  0  0  0  0  2]\n",
            " [ 0  2  0  0  2  3  0  0  0  0]\n",
            " [ 0  3  1  0  0  0  6  0  0  0]\n",
            " [ 0  1  0  0  0  0  0 12  0  2]\n",
            " [ 0  1  0  0  0  0  0  0  1  0]\n",
            " [ 0  0  0  0  0  0  0  2  0  9]]\n"
          ],
          "name": "stdout"
        }
      ]
    },
    {
      "cell_type": "markdown",
      "metadata": {
        "id": "WSg6Bp_Vx17m",
        "colab_type": "text"
      },
      "source": [
        "#Part 2"
      ]
    },
    {
      "cell_type": "code",
      "metadata": {
        "id": "HP5yXGjewpO8",
        "colab_type": "code",
        "outputId": "4ca468b5-7b3f-4240-c2d8-b8541f90c099",
        "colab": {
          "base_uri": "https://localhost:8080/",
          "height": 122
        }
      },
      "source": [
        "from google.colab import drive\n",
        "drive.mount('/content/drive/')"
      ],
      "execution_count": 0,
      "outputs": [
        {
          "output_type": "stream",
          "text": [
            "Go to this URL in a browser: https://accounts.google.com/o/oauth2/auth?client_id=947318989803-6bn6qk8qdgf4n4g3pfee6491hc0brc4i.apps.googleusercontent.com&redirect_uri=urn%3Aietf%3Awg%3Aoauth%3A2.0%3Aoob&scope=email%20https%3A%2F%2Fwww.googleapis.com%2Fauth%2Fdocs.test%20https%3A%2F%2Fwww.googleapis.com%2Fauth%2Fdrive%20https%3A%2F%2Fwww.googleapis.com%2Fauth%2Fdrive.photos.readonly%20https%3A%2F%2Fwww.googleapis.com%2Fauth%2Fpeopleapi.readonly&response_type=code\n",
            "\n",
            "Enter your authorization code:\n",
            "··········\n",
            "Mounted at /content/drive/\n"
          ],
          "name": "stdout"
        }
      ]
    },
    {
      "cell_type": "code",
      "metadata": {
        "id": "AXX0tSX1xJp7",
        "colab_type": "code",
        "colab": {}
      },
      "source": [
        "data = pd.read_csv(\"/content/drive/My Drive/15MI33017/dataset.csv\")"
      ],
      "execution_count": 0,
      "outputs": []
    },
    {
      "cell_type": "code",
      "metadata": {
        "id": "SS0d89CDySbo",
        "colab_type": "code",
        "outputId": "50e3f195-1d85-4e71-8ecd-ed69e98c8e69",
        "colab": {
          "base_uri": "https://localhost:8080/",
          "height": 289
        }
      },
      "source": [
        "print(data.head())\n",
        "print(data.shape)\n",
        "print(data.info())"
      ],
      "execution_count": 0,
      "outputs": [
        {
          "output_type": "stream",
          "text": [
            "   Unnamed: 0                                               data  flag\n",
            "0           0  court agrees to expedite n.f.l.'s appeal the d...     0\n",
            "1           1  no tsunami but fifa's corruption storm rages o...     0\n",
            "2           2  chung backs bin hammam in fifa presidential ra...     0\n",
            "3           3  rory mcilroy hangs on to slim lead at augusta ...     0\n",
            "4           4  figure skating: south korean skater stumbles, ...     0\n",
            "(151, 3)\n",
            "<class 'pandas.core.frame.DataFrame'>\n",
            "RangeIndex: 151 entries, 0 to 150\n",
            "Data columns (total 3 columns):\n",
            "Unnamed: 0    151 non-null int64\n",
            "data          151 non-null object\n",
            "flag          151 non-null int64\n",
            "dtypes: int64(2), object(1)\n",
            "memory usage: 3.6+ KB\n",
            "None\n"
          ],
          "name": "stdout"
        }
      ]
    },
    {
      "cell_type": "code",
      "metadata": {
        "id": "ZgXpQd8CyUUh",
        "colab_type": "code",
        "colab": {}
      },
      "source": [
        "text = data['data']\n",
        "label = data['flag']"
      ],
      "execution_count": 0,
      "outputs": []
    },
    {
      "cell_type": "code",
      "metadata": {
        "id": "2HsXf0-N0CY_",
        "colab_type": "code",
        "outputId": "951c2a73-02bc-43f2-9862-5cc0c1ee80cb",
        "colab": {
          "base_uri": "https://localhost:8080/",
          "height": 119
        }
      },
      "source": [
        "text.head()"
      ],
      "execution_count": 0,
      "outputs": [
        {
          "output_type": "execute_result",
          "data": {
            "text/plain": [
              "0    court agrees to expedite n.f.l.'s appeal the d...\n",
              "1    no tsunami but fifa's corruption storm rages o...\n",
              "2    chung backs bin hammam in fifa presidential ra...\n",
              "3    rory mcilroy hangs on to slim lead at augusta ...\n",
              "4    figure skating: south korean skater stumbles, ...\n",
              "Name: data, dtype: object"
            ]
          },
          "metadata": {
            "tags": []
          },
          "execution_count": 39
        }
      ]
    },
    {
      "cell_type": "code",
      "metadata": {
        "id": "6DA1X6Sn7-VS",
        "colab_type": "code",
        "outputId": "ef1a6fa3-e9f3-4613-a968-78336d32ecde",
        "colab": {
          "base_uri": "https://localhost:8080/",
          "height": 51
        }
      },
      "source": [
        "import nltk\n",
        "nltk.download('stopwords')\n",
        "from nltk.corpus import stopwords\n",
        "stop = set(stopwords.words('english'))"
      ],
      "execution_count": 0,
      "outputs": [
        {
          "output_type": "stream",
          "text": [
            "[nltk_data] Downloading package stopwords to /root/nltk_data...\n",
            "[nltk_data]   Unzipping corpora/stopwords.zip.\n"
          ],
          "name": "stdout"
        }
      ]
    },
    {
      "cell_type": "code",
      "metadata": {
        "id": "lkMWngKuL1Fm",
        "colab_type": "code",
        "colab": {}
      },
      "source": [
        "myset = set()\n",
        "def build_vocab(sentences):\n",
        "  sentences = sentences.replace('[^\\w\\s]','')\n",
        "  tokens = sentences.split()\n",
        "  tokens = [w.lower() for w in tokens]\n",
        "  tokens = [w for w in tokens if w not in stop]\n",
        "  for i in range(len(tokens)):\n",
        "    myset.add(tokens[i])\n",
        "  return myset"
      ],
      "execution_count": 0,
      "outputs": []
    },
    {
      "cell_type": "code",
      "metadata": {
        "id": "9NmBmj29Opra",
        "colab_type": "code",
        "colab": {}
      },
      "source": [
        "for i in range(text.shape[0]):\n",
        "  myset = build_vocab(text[i])"
      ],
      "execution_count": 0,
      "outputs": []
    },
    {
      "cell_type": "code",
      "metadata": {
        "id": "o-E-ryitO5so",
        "colab_type": "code",
        "colab": {}
      },
      "source": [
        "# Vocabulary size\n",
        "len(myset)\n",
        "vocab_list = list(myset)"
      ],
      "execution_count": 0,
      "outputs": []
    },
    {
      "cell_type": "code",
      "metadata": {
        "id": "VlAJW7PZSfjg",
        "colab_type": "code",
        "colab": {}
      },
      "source": [
        "tokens = text[5].split()\n",
        "x = np.zeros(len(myset))\n",
        "result  = defaultdict(int)\n",
        "for i in range(len(l)):\n",
        "  if(l[i] in tokens):\n",
        "    count = tokens.count(l[i])\n",
        "    result[i] = count"
      ],
      "execution_count": 0,
      "outputs": []
    },
    {
      "cell_type": "code",
      "metadata": {
        "id": "i1TRFKCtY6Am",
        "colab_type": "code",
        "outputId": "c5049577-e5dc-4829-fb19-a5da7183a23f",
        "colab": {
          "base_uri": "https://localhost:8080/",
          "height": 34
        }
      },
      "source": [
        "len(vocab_list)"
      ],
      "execution_count": 0,
      "outputs": [
        {
          "output_type": "execute_result",
          "data": {
            "text/plain": [
              "2139"
            ]
          },
          "metadata": {
            "tags": []
          },
          "execution_count": 91
        }
      ]
    },
    {
      "cell_type": "code",
      "metadata": {
        "id": "IUa-bHUs9QGc",
        "colab_type": "code",
        "colab": {}
      },
      "source": [
        "def processing(sentences):\n",
        "  sentences = sentences.replace('[^\\w\\s]','')\n",
        "  tokens = sentences.split()\n",
        "  tokens = [w.lower() for w in tokens]\n",
        "  tokens = [w for w in tokens if w not in stop]\n",
        "  \n",
        "  result = defaultdict(int)\n",
        "  for word in vocab_list:\n",
        "    count = tokens.count(word)\n",
        "    result[word] = count\n",
        "  x = list(result.values())\n",
        "  return x;"
      ],
      "execution_count": 0,
      "outputs": []
    },
    {
      "cell_type": "code",
      "metadata": {
        "id": "6g2qlV5B9dFX",
        "colab_type": "code",
        "outputId": "33868923-b76a-4c21-85b5-0858ae768785",
        "colab": {
          "base_uri": "https://localhost:8080/",
          "height": 102
        }
      },
      "source": [
        "for i in range(text.shape[0]):\n",
        "  text[i] = processing(text[i])\n",
        "  "
      ],
      "execution_count": 0,
      "outputs": [
        {
          "output_type": "stream",
          "text": [
            "/usr/local/lib/python3.6/dist-packages/ipykernel_launcher.py:2: SettingWithCopyWarning: \n",
            "A value is trying to be set on a copy of a slice from a DataFrame\n",
            "\n",
            "See the caveats in the documentation: http://pandas.pydata.org/pandas-docs/stable/indexing.html#indexing-view-versus-copy\n",
            "  \n"
          ],
          "name": "stderr"
        }
      ]
    },
    {
      "cell_type": "code",
      "metadata": {
        "id": "eYma9XBEAfOy",
        "colab_type": "code",
        "outputId": "5c6008b3-3a7a-45cb-bdef-f8b2a1be6ba4",
        "colab": {
          "base_uri": "https://localhost:8080/",
          "height": 34
        }
      },
      "source": [
        "label.shape"
      ],
      "execution_count": 0,
      "outputs": [
        {
          "output_type": "execute_result",
          "data": {
            "text/plain": [
              "(151,)"
            ]
          },
          "metadata": {
            "tags": []
          },
          "execution_count": 126
        }
      ]
    },
    {
      "cell_type": "code",
      "metadata": {
        "id": "rHPKRK65cFtr",
        "colab_type": "code",
        "outputId": "2f23a0ad-e89d-4cbe-8521-58f3903526bc",
        "colab": {
          "base_uri": "https://localhost:8080/",
          "height": 51
        }
      },
      "source": [
        "x_train,x_test,y_train,y_test = train_test_split(text, label, test_size=0.3)\n",
        "x_train = x_train.reset_index(drop=True)\n",
        "x_test = x_test.reset_index(drop=True)\n",
        "y_train = y_train.reset_index(drop=True)\n",
        "y_test = y_test.reset_index(drop=True)\n",
        "print(x_train.shape)\n",
        "print(x_test.shape)"
      ],
      "execution_count": 0,
      "outputs": [
        {
          "output_type": "stream",
          "text": [
            "(105,)\n",
            "(46,)\n"
          ],
          "name": "stdout"
        }
      ]
    },
    {
      "cell_type": "code",
      "metadata": {
        "id": "7W9lpzr0hG4j",
        "colab_type": "code",
        "colab": {}
      },
      "source": [
        "def euclideanDistance(point1, point2, length):\n",
        "  distance = 0\n",
        "  for x in range(length):\n",
        "    distance = distance + np.square(point1[x]-point2[x])\n",
        "  return np.sqrt(distance)\n",
        "\n",
        "def KNN(training_set, labels, test_instance, K):\n",
        "  distance = []\n",
        "  for i in range(len(training_set)):\n",
        "    dist = euclideanDistance(training_set[i], test_instance, len(vocab_list))\n",
        "    distance.append((dist, labels[i]))\n",
        "  distance.sort(key=lambda x:x[0])\n",
        "  neighbors = distance[:K]\n",
        "  \n",
        "  vote = {}\n",
        "  for i in range(len(neighbors)):\n",
        "    response = neighbors[i][1]\n",
        "    if response in vote:\n",
        "      vote[response] += 1\n",
        "    else:\n",
        "      vote[response] = 1\n",
        "  sortedVote = sorted(vote.items(), key=lambda x:x[1], reverse=True )\n",
        "  return sortedVote[0][0]"
      ],
      "execution_count": 0,
      "outputs": []
    },
    {
      "cell_type": "code",
      "metadata": {
        "id": "Vtw7_DmXcSxL",
        "colab_type": "code",
        "colab": {}
      },
      "source": [
        "y_pred = np.zeros(46)\n",
        "for i in range(x_test.shape[0]):\n",
        "  neighbor = KNN(x_train, y_train, x_test[i], 5)\n",
        "  y_pred[i] = neighbor"
      ],
      "execution_count": 0,
      "outputs": []
    },
    {
      "cell_type": "code",
      "metadata": {
        "id": "8OeTcz5pfSAW",
        "colab_type": "code",
        "outputId": "c9b0cff6-b034-4b7f-abe5-f9d305ee6c3e",
        "colab": {
          "base_uri": "https://localhost:8080/",
          "height": 34
        }
      },
      "source": [
        "accuracy_score(y_test, y_pred)"
      ],
      "execution_count": 0,
      "outputs": [
        {
          "output_type": "execute_result",
          "data": {
            "text/plain": [
              "0.7391304347826086"
            ]
          },
          "metadata": {
            "tags": []
          },
          "execution_count": 161
        }
      ]
    },
    {
      "cell_type": "code",
      "metadata": {
        "id": "1GdAWo_FgmmL",
        "colab_type": "code",
        "colab": {}
      },
      "source": [
        "# Accuracy_obtained: 0.7391"
      ],
      "execution_count": 0,
      "outputs": []
    }
  ]
}