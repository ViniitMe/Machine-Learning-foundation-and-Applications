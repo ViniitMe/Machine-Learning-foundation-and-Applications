{
  "nbformat": 4,
  "nbformat_minor": 0,
  "metadata": {
    "colab": {
      "name": "KMeans_15MI33017.ipynb",
      "provenance": [],
      "collapsed_sections": [],
      "include_colab_link": true
    },
    "kernelspec": {
      "name": "python3",
      "display_name": "Python 3"
    }
  },
  "cells": [
    {
      "cell_type": "markdown",
      "metadata": {
        "id": "view-in-github",
        "colab_type": "text"
      },
      "source": [
        "<a href=\"https://colab.research.google.com/github/ViniitMe/Machine-Learning-foundation-and-Applications/blob/master/KMeans_15MI33017.ipynb\" target=\"_parent\"><img src=\"https://colab.research.google.com/assets/colab-badge.svg\" alt=\"Open In Colab\"/></a>"
      ]
    },
    {
      "cell_type": "code",
      "metadata": {
        "id": "AigMR9se7qo2",
        "colab_type": "code",
        "colab": {}
      },
      "source": [
        "# Importing libraries\n",
        "import pandas as pd\n",
        "import numpy as np\n",
        "import matplotlib.pyplot as plt\n",
        "from copy import deepcopy\n",
        "from google.colab import drive\n",
        "from sklearn.cluster import KMeans\n",
        "from sklearn.metrics import adjusted_rand_score\n",
        "from sklearn.preprocessing import LabelEncoder, StandardScaler, normalize\n",
        "from sklearn.model_selection import train_test_split"
      ],
      "execution_count": 0,
      "outputs": []
    },
    {
      "cell_type": "code",
      "metadata": {
        "id": "l5Gw4NM48Mb6",
        "colab_type": "code",
        "outputId": "f2fe3e1c-abd8-4de2-fae2-d36692ed2cfb",
        "colab": {
          "base_uri": "https://localhost:8080/",
          "height": 122
        }
      },
      "source": [
        "|drive.mount('/content/drive/')"
      ],
      "execution_count": 0,
      "outputs": [
        {
          "output_type": "stream",
          "text": [
            "Go to this URL in a browser: https://accounts.google.com/o/oauth2/auth?client_id=947318989803-6bn6qk8qdgf4n4g3pfee6491hc0brc4i.apps.googleusercontent.com&redirect_uri=urn%3Aietf%3Awg%3Aoauth%3A2.0%3Aoob&scope=email%20https%3A%2F%2Fwww.googleapis.com%2Fauth%2Fdocs.test%20https%3A%2F%2Fwww.googleapis.com%2Fauth%2Fdrive%20https%3A%2F%2Fwww.googleapis.com%2Fauth%2Fdrive.photos.readonly%20https%3A%2F%2Fwww.googleapis.com%2Fauth%2Fpeopleapi.readonly&response_type=code\n",
            "\n",
            "Enter your authorization code:\n",
            "··········\n",
            "Mounted at /content/drive/\n"
          ],
          "name": "stdout"
        }
      ]
    },
    {
      "cell_type": "code",
      "metadata": {
        "id": "pP2HPx3b8p5m",
        "colab_type": "code",
        "colab": {}
      },
      "source": [
        "#Dataset Loading\n",
        "data = pd.read_csv(\"/content/drive/My Drive/15MI33017/DataSetk-means.csv\")"
      ],
      "execution_count": 0,
      "outputs": []
    },
    {
      "cell_type": "markdown",
      "metadata": {
        "id": "knu0P_hV9u5o",
        "colab_type": "text"
      },
      "source": [
        "Data Exploration"
      ]
    },
    {
      "cell_type": "code",
      "metadata": {
        "id": "Pw3-0Lpd9lvf",
        "colab_type": "code",
        "outputId": "8e7e3494-d60f-4ba0-8c94-6749d4d3b717",
        "colab": {
          "base_uri": "https://localhost:8080/",
          "height": 544
        }
      },
      "source": [
        "print(data.head())\n",
        "print(\"\\n\")\n",
        "print(data.columns)\n",
        "print(\"\\n\")\n",
        "print(\"data shape: \" +str(data.shape))\n",
        "print(\"\\n\")\n",
        "print(data.info())"
      ],
      "execution_count": 0,
      "outputs": [
        {
          "output_type": "stream",
          "text": [
            "     temp  rain_1h  snow_1h  ...  weather_description traffic_volume  weather_main\n",
            "0  288.28        0        0  ...     scattered clouds           5545        Clouds\n",
            "1  289.36        0        0  ...        broken clouds           4516        Clouds\n",
            "2  289.58        0        0  ...      overcast clouds           4767        Clouds\n",
            "3  290.13        0        0  ...      overcast clouds           5026        Clouds\n",
            "4  291.14        0        0  ...        broken clouds           4918        Clouds\n",
            "\n",
            "[5 rows x 7 columns]\n",
            "\n",
            "\n",
            "Index(['temp', 'rain_1h', 'snow_1h', 'clouds_all', 'weather_description',\n",
            "       'traffic_volume', 'weather_main'],\n",
            "      dtype='object')\n",
            "\n",
            "\n",
            "data shape: (499, 7)\n",
            "\n",
            "\n",
            "<class 'pandas.core.frame.DataFrame'>\n",
            "RangeIndex: 499 entries, 0 to 498\n",
            "Data columns (total 7 columns):\n",
            "temp                   499 non-null float64\n",
            "rain_1h                499 non-null int64\n",
            "snow_1h                499 non-null int64\n",
            "clouds_all             499 non-null int64\n",
            "weather_description    499 non-null object\n",
            "traffic_volume         499 non-null int64\n",
            "weather_main           499 non-null object\n",
            "dtypes: float64(1), int64(4), object(2)\n",
            "memory usage: 27.4+ KB\n",
            "None\n"
          ],
          "name": "stdout"
        }
      ]
    },
    {
      "cell_type": "code",
      "metadata": {
        "id": "4g0416_eGNka",
        "colab_type": "code",
        "outputId": "fb078925-8563-4f26-80e8-688dd043783a",
        "colab": {
          "base_uri": "https://localhost:8080/",
          "height": 286
        }
      },
      "source": [
        "plt.plot(data['weather_main'])"
      ],
      "execution_count": 0,
      "outputs": [
        {
          "output_type": "execute_result",
          "data": {
            "text/plain": [
              "[<matplotlib.lines.Line2D at 0x7fb5983f1780>]"
            ]
          },
          "metadata": {
            "tags": []
          },
          "execution_count": 90
        },
        {
          "output_type": "display_data",
          "data": {
            "image/png": "[encoded data removed]",
            "text/plain": [
              "<Figure size 432x288 with 1 Axes>"
            ]
          },
          "metadata": {
            "tags": []
          }
        }
      ]
    },
    {
      "cell_type": "markdown",
      "metadata": {
        "id": "B8VoHuLf--rR",
        "colab_type": "text"
      },
      "source": [
        "Data Preprocessing"
      ]
    },
    {
      "cell_type": "code",
      "metadata": {
        "id": "XJRwbDRe90PL",
        "colab_type": "code",
        "outputId": "5a4d6cb1-847a-4325-9982-5530f3da35d8",
        "colab": {
          "base_uri": "https://localhost:8080/",
          "height": 544
        }
      },
      "source": [
        "# Converting categorical variable to numerical\n",
        "print(data['weather_description'].value_counts())\n",
        "print(\"\\n\")\n",
        "print(data['weather_main'].value_counts())\n",
        "print(\"\\n\")\n",
        "print(np.unique(data['rain_1h']))\n",
        "print(\"\\n\")\n",
        "print(np.unique(data['snow_1h']))"
      ],
      "execution_count": 0,
      "outputs": [
        {
          "output_type": "stream",
          "text": [
            "overcast clouds            110\n",
            "sky is clear               107\n",
            "broken clouds               66\n",
            "mist                        58\n",
            "few clouds                  42\n",
            "light rain                  34\n",
            "scattered clouds            31\n",
            "light intensity drizzle     24\n",
            "drizzle                     10\n",
            "fog                          9\n",
            "moderate rain                5\n",
            "heavy intensity rain         1\n",
            "haze                         1\n",
            "proximity shower rain        1\n",
            "Name: weather_description, dtype: int64\n",
            "\n",
            "\n",
            "Clouds     249\n",
            "Clear      107\n",
            "Mist        58\n",
            "Rain        41\n",
            "Drizzle     34\n",
            "Fog          9\n",
            "Haze         1\n",
            "Name: weather_main, dtype: int64\n",
            "\n",
            "\n",
            "[0]\n",
            "\n",
            "\n",
            "[0]\n"
          ],
          "name": "stdout"
        }
      ]
    },
    {
      "cell_type": "markdown",
      "metadata": {
        "id": "s662Sqf4H7-s",
        "colab_type": "text"
      },
      "source": [
        "Note: The values in rain_1h column and snow_1h column are exactly same and only  \"0\" is there so dropping those columns"
      ]
    },
    {
      "cell_type": "code",
      "metadata": {
        "id": "JCRwjlcCIYW2",
        "colab_type": "code",
        "colab": {}
      },
      "source": [
        "# Dropping irrelavant attributes\n",
        "data =  data.drop(\"rain_1h\",1)\n",
        "data = data.drop(\"snow_1h\",1)"
      ],
      "execution_count": 0,
      "outputs": []
    },
    {
      "cell_type": "code",
      "metadata": {
        "id": "9wATKasr_S2I",
        "colab_type": "code",
        "colab": {}
      },
      "source": [
        "enc = LabelEncoder()\n",
        "data['weather_main'] = enc.fit_transform(data['weather_main'])\n",
        "data['weather_description'] = enc.fit_transform(data['weather_description'])"
      ],
      "execution_count": 0,
      "outputs": []
    },
    {
      "cell_type": "code",
      "metadata": {
        "id": "P1aIKTCMAp3h",
        "colab_type": "code",
        "outputId": "48f9f73d-36c8-44ff-ce5d-d844d3810c7a",
        "colab": {
          "base_uri": "https://localhost:8080/",
          "height": 204
        }
      },
      "source": [
        "# data['clouds_all'] = scaler.fit_transform(data['clouds_all'].values)\n",
        "# data[['clouds_all','traffic_volume','temp']] = data[['clouds_all','traffic_volume','temp']].apply(lambda x: StandardScaler().fit_transform(x))\n",
        "# data['traffic_volume'] = normalize(data['traffic_volume'])\n",
        "# data['temp'] = normalize(data['temp'])\n",
        "data.head()"
      ],
      "execution_count": 0,
      "outputs": [
        {
          "output_type": "execute_result",
          "data": {
            "text/html": [
              "<div>\n",
              "<style scoped>\n",
              "    .dataframe tbody tr th:only-of-type {\n",
              "        vertical-align: middle;\n",
              "    }\n",
              "\n",
              "    .dataframe tbody tr th {\n",
              "        vertical-align: top;\n",
              "    }\n",
              "\n",
              "    .dataframe thead th {\n",
              "        text-align: right;\n",
              "    }\n",
              "</style>\n",
              "<table border=\"1\" class=\"dataframe\">\n",
              "  <thead>\n",
              "    <tr style=\"text-align: right;\">\n",
              "      <th></th>\n",
              "      <th>temp</th>\n",
              "      <th>clouds_all</th>\n",
              "      <th>weather_description</th>\n",
              "      <th>traffic_volume</th>\n",
              "      <th>weather_main</th>\n",
              "    </tr>\n",
              "  </thead>\n",
              "  <tbody>\n",
              "    <tr>\n",
              "      <th>0</th>\n",
              "      <td>288.28</td>\n",
              "      <td>40</td>\n",
              "      <td>12</td>\n",
              "      <td>5545</td>\n",
              "      <td>1</td>\n",
              "    </tr>\n",
              "    <tr>\n",
              "      <th>1</th>\n",
              "      <td>289.36</td>\n",
              "      <td>75</td>\n",
              "      <td>0</td>\n",
              "      <td>4516</td>\n",
              "      <td>1</td>\n",
              "    </tr>\n",
              "    <tr>\n",
              "      <th>2</th>\n",
              "      <td>289.58</td>\n",
              "      <td>90</td>\n",
              "      <td>10</td>\n",
              "      <td>4767</td>\n",
              "      <td>1</td>\n",
              "    </tr>\n",
              "    <tr>\n",
              "      <th>3</th>\n",
              "      <td>290.13</td>\n",
              "      <td>90</td>\n",
              "      <td>10</td>\n",
              "      <td>5026</td>\n",
              "      <td>1</td>\n",
              "    </tr>\n",
              "    <tr>\n",
              "      <th>4</th>\n",
              "      <td>291.14</td>\n",
              "      <td>75</td>\n",
              "      <td>0</td>\n",
              "      <td>4918</td>\n",
              "      <td>1</td>\n",
              "    </tr>\n",
              "  </tbody>\n",
              "</table>\n",
              "</div>"
            ],
            "text/plain": [
              "     temp  clouds_all  weather_description  traffic_volume  weather_main\n",
              "0  288.28          40                   12            5545             1\n",
              "1  289.36          75                    0            4516             1\n",
              "2  289.58          90                   10            4767             1\n",
              "3  290.13          90                   10            5026             1\n",
              "4  291.14          75                    0            4918             1"
            ]
          },
          "metadata": {
            "tags": []
          },
          "execution_count": 83
        }
      ]
    },
    {
      "cell_type": "code",
      "metadata": {
        "id": "XkbD7OhJBKub",
        "colab_type": "code",
        "outputId": "a41333bf-939c-4476-95f3-9ddd1836c5f7",
        "colab": {
          "base_uri": "https://localhost:8080/",
          "height": 51
        }
      },
      "source": [
        "# train_test_split\n",
        "x = data.drop('weather_main',1)\n",
        "y = data['weather_main']\n",
        "\n",
        "print(\"train_set_shape: \"+str(x.shape))\n",
        "print(\"test_set_shape: \"+str(y.shape))\n",
        "\n",
        "# x_train,x_test,y_train,y_test = train_test_split(x,y,test_size=0.30)\n",
        "# print(\"x_train_shape: \"+str(x_train.shape))\n",
        "# print(\"y_train_shape: \"+str(y_train.shape))\n",
        "# print(\"x_test_shape: \"+str(x_test.shape))\n",
        "# print(\"y_test_shape: \"+str(y_test.shape))"
      ],
      "execution_count": 0,
      "outputs": [
        {
          "output_type": "stream",
          "text": [
            "train_set_shape: (499, 4)\n",
            "test_set_shape: (499,)\n"
          ],
          "name": "stdout"
        }
      ]
    },
    {
      "cell_type": "code",
      "metadata": {
        "id": "1b2mtXUmam1O",
        "colab_type": "code",
        "colab": {}
      },
      "source": [
        "x = x.values\n",
        "\n",
        "\n",
        "# Scaling the data\n",
        "scaler = StandardScaler()\n",
        "x[:,0:2] = scaler.fit_transform(x[:,0:2])\n",
        "x[:,3:4] = scaler.fit_transform(x[:,3:4])"
      ],
      "execution_count": 0,
      "outputs": []
    },
    {
      "cell_type": "code",
      "metadata": {
        "id": "V7Xp69vzaymI",
        "colab_type": "code",
        "outputId": "034f9a0c-dfe7-48de-b707-91060e26fbce",
        "colab": {
          "base_uri": "https://localhost:8080/",
          "height": 136
        }
      },
      "source": [
        "x"
      ],
      "execution_count": 0,
      "outputs": [
        {
          "output_type": "execute_result",
          "data": {
            "text/plain": [
              "array([[ 1.24549446, -0.57233739, 12.        ,  1.05236332],\n",
              "       [ 1.46295554,  0.37630763,  0.        ,  0.54444261],\n",
              "       [ 1.50725316,  0.78286978, 10.        ,  0.66833775],\n",
              "       ...,\n",
              "       [-0.5485594 , -1.43966998,  8.        , -1.28683613],\n",
              "       [-0.58681644, -1.43966998,  8.        , -0.39044739],\n",
              "       [-0.61299231, -1.43966998,  8.        ,  1.00843238]])"
            ]
          },
          "metadata": {
            "tags": []
          },
          "execution_count": 152
        }
      ]
    },
    {
      "cell_type": "markdown",
      "metadata": {
        "id": "bmk4c6KGESIQ",
        "colab_type": "text"
      },
      "source": [
        "# KMeans Implementation"
      ]
    },
    {
      "cell_type": "code",
      "metadata": {
        "id": "RliRNsgvBbB5",
        "colab_type": "code",
        "colab": {}
      },
      "source": [
        "def euclideanDistance(point1, point2):\n",
        "  return np.linalg.norm(point1-point2)"
      ],
      "execution_count": 0,
      "outputs": []
    },
    {
      "cell_type": "code",
      "metadata": {
        "id": "Pqr9bEcXBmjB",
        "colab_type": "code",
        "colab": {}
      },
      "source": [
        "K = 2\n",
        "centroid = x[np.random.choice(x.shape[0],K,replace=False)]\n",
        "dist_1 = np.zeros(x.shape[0])\n",
        "dist_2 = np.zeros(x.shape[0])\n",
        "\n",
        "clusters = np.zeros(x.shape[0])\n",
        "prev_centroid = np.zeros(centroid.shape)\n",
        "error = euclideanDistance(centroid,prev_centroid)\n",
        "mean = np.zeros(centroid.shape)"
      ],
      "execution_count": 0,
      "outputs": []
    },
    {
      "cell_type": "code",
      "metadata": {
        "id": "gJGIzFSwNrFG",
        "colab_type": "code",
        "outputId": "b099951a-cbbc-4fcf-c7fa-c2873e0670aa",
        "colab": {
          "base_uri": "https://localhost:8080/",
          "height": 51
        }
      },
      "source": [
        "print(centroid)"
      ],
      "execution_count": 0,
      "outputs": [
        {
          "output_type": "stream",
          "text": [
            "[[-0.23847602  0.94549464  1.         -1.48674661]\n",
            " [-0.18209722  1.05391121  8.         -0.30900238]]\n"
          ],
          "name": "stdout"
        }
      ]
    },
    {
      "cell_type": "code",
      "metadata": {
        "id": "z-cIwomYFeTw",
        "colab_type": "code",
        "colab": {}
      },
      "source": [
        "# Loop will run till the error becomes zero\n",
        "while(error!=0):\n",
        "  for i in range(x.shape[0]):\n",
        "    dist_1[i] = euclideanDistance(x[i],centroid[0])\n",
        "    dist_2[i] = euclideanDistance(x[i],centroid[1])\n",
        "    if(dist_1[i]<dist_2[i]):\n",
        "      clusters[i] = 0\n",
        "    if(dist_1[i]>dist_2[i]):\n",
        "      clusters[i] = 1\n",
        "  prev_centroid=deepcopy(centroid)\n",
        "  for i in range(len(clusters)):\n",
        "    if(clusters[i]==0):\n",
        "      mean[0][0] = np.mean(x[i][0])\n",
        "      mean[0][1] = np.mean(x[i][1])\n",
        "      mean[0][2] = np.mean(x[i][2])\n",
        "      mean[0][3] = np.mean(x[i][3])\n",
        "    else:\n",
        "      continue\n",
        "  for i in range(len(clusters)):\n",
        "    if(clusters[i]==1):\n",
        "      mean[1][0] = np.mean(x[i][0])\n",
        "      mean[1][1] = np.mean(x[i][1])\n",
        "      mean[1][2] = np.mean(x[i][2])\n",
        "      mean[1][3] = np.mean(x[i][3])\n",
        "    else:\n",
        "      continue\n",
        "  centroid[0] = mean[0]\n",
        "  centroid[1] = mean[1]\n",
        "  error = euclideanDistance(centroid,prev_centroid)"
      ],
      "execution_count": 0,
      "outputs": []
    },
    {
      "cell_type": "markdown",
      "metadata": {
        "id": "85vRH0eBwv79",
        "colab_type": "text"
      },
      "source": [
        "Result of KMeans for k=2"
      ]
    },
    {
      "cell_type": "code",
      "metadata": {
        "id": "Rso_zLcevosm",
        "colab_type": "code",
        "outputId": "23fbe261-8626-405a-eba1-0da872616eef",
        "colab": {
          "base_uri": "https://localhost:8080/",
          "height": 527
        }
      },
      "source": [
        "clusters"
      ],
      "execution_count": 0,
      "outputs": [
        {
          "output_type": "execute_result",
          "data": {
            "text/plain": [
              "array([1., 0., 1., 1., 0., 1., 1., 1., 0., 0., 0., 1., 1., 1., 1., 1., 1.,\n",
              "       1., 1., 1., 1., 1., 1., 1., 1., 1., 1., 1., 1., 0., 0., 0., 1., 1.,\n",
              "       1., 1., 1., 1., 1., 1., 1., 1., 1., 1., 1., 1., 1., 1., 1., 1., 1.,\n",
              "       0., 0., 1., 1., 1., 0., 0., 0., 0., 1., 1., 0., 1., 1., 1., 0., 0.,\n",
              "       1., 1., 0., 1., 1., 1., 1., 1., 1., 1., 0., 1., 1., 1., 1., 1., 0.,\n",
              "       0., 1., 1., 1., 1., 0., 0., 1., 0., 0., 0., 1., 1., 1., 1., 1., 1.,\n",
              "       1., 0., 0., 1., 1., 0., 1., 1., 0., 0., 0., 1., 1., 1., 1., 1., 1.,\n",
              "       1., 1., 1., 0., 1., 0., 0., 0., 0., 1., 1., 1., 1., 0., 0., 0., 0.,\n",
              "       0., 0., 1., 1., 1., 1., 1., 1., 1., 0., 1., 1., 1., 1., 1., 1., 1.,\n",
              "       0., 1., 1., 0., 1., 1., 1., 1., 0., 0., 1., 1., 1., 1., 1., 0., 1.,\n",
              "       1., 1., 1., 1., 1., 0., 1., 1., 1., 1., 1., 1., 1., 1., 1., 1., 0.,\n",
              "       0., 1., 1., 1., 1., 1., 1., 1., 1., 1., 1., 0., 0., 1., 1., 1., 1.,\n",
              "       0., 1., 1., 1., 0., 0., 1., 1., 1., 1., 1., 1., 1., 1., 1., 1., 1.,\n",
              "       1., 0., 0., 1., 1., 0., 0., 1., 1., 0., 0., 0., 1., 0., 1., 1., 1.,\n",
              "       1., 0., 1., 1., 1., 0., 1., 1., 0., 1., 1., 1., 1., 1., 1., 1., 1.,\n",
              "       0., 1., 0., 1., 1., 1., 1., 1., 1., 1., 1., 1., 1., 1., 1., 1., 0.,\n",
              "       1., 1., 1., 1., 1., 1., 1., 1., 1., 1., 1., 1., 1., 1., 1., 1., 1.,\n",
              "       1., 1., 1., 1., 1., 1., 1., 0., 1., 0., 0., 0., 1., 0., 1., 0., 1.,\n",
              "       0., 1., 1., 1., 1., 1., 1., 1., 1., 1., 1., 0., 0., 0., 0., 0., 1.,\n",
              "       0., 0., 0., 1., 1., 1., 1., 1., 1., 0., 0., 0., 0., 0., 1., 1., 0.,\n",
              "       0., 0., 0., 1., 1., 1., 1., 1., 1., 0., 0., 1., 1., 0., 1., 1., 0.,\n",
              "       0., 1., 1., 0., 0., 1., 1., 1., 1., 1., 1., 1., 1., 1., 1., 0., 0.,\n",
              "       0., 1., 1., 1., 1., 1., 0., 1., 1., 1., 1., 1., 1., 1., 1., 1., 1.,\n",
              "       1., 1., 1., 1., 1., 1., 1., 1., 1., 1., 1., 1., 1., 1., 1., 0., 1.,\n",
              "       1., 1., 1., 1., 1., 1., 1., 1., 1., 1., 1., 1., 1., 1., 1., 1., 1.,\n",
              "       1., 1., 1., 1., 0., 1., 1., 0., 1., 1., 1., 1., 1., 1., 0., 1., 1.,\n",
              "       1., 1., 1., 0., 1., 1., 1., 0., 1., 1., 1., 1., 1., 0., 1., 1., 0.,\n",
              "       1., 0., 1., 1., 1., 0., 1., 1., 1., 1., 0., 1., 1., 1., 1., 1., 1.,\n",
              "       0., 1., 0., 1., 1., 0., 0., 1., 0., 1., 0., 1., 0., 0., 1., 1., 0.,\n",
              "       0., 1., 0., 1., 1., 1.])"
            ]
          },
          "metadata": {
            "tags": []
          },
          "execution_count": 187
        }
      ]
    },
    {
      "cell_type": "markdown",
      "metadata": {
        "id": "hiQWeQvU4Ndw",
        "colab_type": "text"
      },
      "source": [
        "Accuracy Checking"
      ]
    },
    {
      "cell_type": "code",
      "metadata": {
        "id": "7yKo5YW-07_O",
        "colab_type": "code",
        "outputId": "2de684fd-3512-4794-fe7e-28cdb8211a58",
        "colab": {
          "base_uri": "https://localhost:8080/",
          "height": 34
        }
      },
      "source": [
        "# Rand score\n",
        "adjusted_rand_score(y,clusters)"
      ],
      "execution_count": 0,
      "outputs": [
        {
          "output_type": "execute_result",
          "data": {
            "text/plain": [
              "-0.009687736249424445"
            ]
          },
          "metadata": {
            "tags": []
          },
          "execution_count": 189
        }
      ]
    },
    {
      "cell_type": "markdown",
      "metadata": {
        "id": "bKN37Yvu4Qhd",
        "colab_type": "text"
      },
      "source": [
        "Changing K values"
      ]
    },
    {
      "cell_type": "code",
      "metadata": {
        "id": "yXhy9Lr93yWn",
        "colab_type": "code",
        "colab": {}
      },
      "source": [
        "# For K  = 7\n",
        "K = 7\n",
        "centroid = x[np.random.choice(x.shape[0],K,replace=False)]\n",
        "dist_1 = np.zeros(x.shape[0])\n",
        "dist_2 = np.zeros(x.shape[0])\n",
        "dist_3 = np.zeros(x.shape[0])\n",
        "dist_4 = np.zeros(x.shape[0])\n",
        "dist_5 = np.zeros(x.shape[0])\n",
        "dist_6 = np.zeros(x.shape[0])\n",
        "dist_7 = np.zeros(x.shape[0])\n",
        "\n",
        "clusters = np.zeros(x.shape[0])\n",
        "prev_centroid = np.zeros(centroid.shape)\n",
        "error = euclideanDistance(centroid,prev_centroid)\n",
        "mean = np.zeros(centroid.shape)"
      ],
      "execution_count": 0,
      "outputs": []
    },
    {
      "cell_type": "code",
      "metadata": {
        "id": "ItRDxg6c4leK",
        "colab_type": "code",
        "outputId": "ad80479e-bd31-4953-d3a9-1003a0b7fd31",
        "colab": {
          "base_uri": "https://localhost:8080/",
          "height": 136
        }
      },
      "source": [
        "print(centroid)"
      ],
      "execution_count": 0,
      "outputs": [
        {
          "output_type": "stream",
          "text": [
            "[[-0.64319524 -1.62939899 13.         -0.99363408]\n",
            " [-0.16397546  0.78286978 10.         -1.33965198]\n",
            " [-0.45996415 -1.62939899 13.         -0.51088729]\n",
            " [-0.55258646  0.80997392  7.          0.58886717]\n",
            " [ 0.35350135 -1.11442026  2.          0.67672906]\n",
            " [ 1.00588457  0.78286978 10.         -0.81248063]\n",
            " [-0.07940727  1.05391121  8.          0.14807689]]\n"
          ],
          "name": "stdout"
        }
      ]
    },
    {
      "cell_type": "code",
      "metadata": {
        "id": "YYSqotpk5U_u",
        "colab_type": "code",
        "colab": {}
      },
      "source": [
        "# Loop will run till the error becomes zero\n",
        "while(error!=0):\n",
        "  for i in range(x.shape[0]):\n",
        "    dist_1[i] = euclideanDistance(x[i],centroid[0])\n",
        "    dist_2[i] = euclideanDistance(x[i],centroid[1])\n",
        "    dist_3[i] = euclideanDistance(x[i],centroid[2])\n",
        "    dist_4[i] = euclideanDistance(x[i],centroid[3])\n",
        "    dist_5[i] = euclideanDistance(x[i],centroid[4])\n",
        "    dist_6[i] = euclideanDistance(x[i],centroid[5])\n",
        "    dist_7[i] = euclideanDistance(x[i],centroid[6])\n",
        "    d = {}\n",
        "    d[0] = dist_1[i]\n",
        "    d[1] = dist_2[i]\n",
        "    d[2] = dist_3[i]\n",
        "    d[3] = dist_4[i]\n",
        "    d[4] = dist_5[i]\n",
        "    d[5] = dist_6[i]\n",
        "    d[6] = dist_7[i]\n",
        "    mini = min(d, key=d.get)\n",
        "    clusters[i] = mini\n",
        "  prev_centroid=deepcopy(centroid)\n",
        "  for i in range(len(clusters)):\n",
        "    if(clusters[i]==0):\n",
        "      mean[0][0] = np.mean(x[i][0])\n",
        "      mean[0][1] = np.mean(x[i][1])\n",
        "      mean[0][2] = np.mean(x[i][2])\n",
        "      mean[0][3] = np.mean(x[i][3])\n",
        "    elif(clusters[i]==1):\n",
        "      mean[1][0] = np.mean(x[i][0])\n",
        "      mean[1][1] = np.mean(x[i][1])\n",
        "      mean[1][2] = np.mean(x[i][2])\n",
        "      mean[1][3] = np.mean(x[i][3])\n",
        "    elif(clusters[i]==2):\n",
        "      mean[2][0] = np.mean(x[i][0])\n",
        "      mean[2][1] = np.mean(x[i][1])\n",
        "      mean[2][2] = np.mean(x[i][2])\n",
        "      mean[2][3] = np.mean(x[i][3])\n",
        "    elif(clusters[i]==3):\n",
        "      mean[3][0] = np.mean(x[i][0])\n",
        "      mean[3][1] = np.mean(x[i][1])\n",
        "      mean[3][2] = np.mean(x[i][2])\n",
        "      mean[3][3] = np.mean(x[i][3])\n",
        "    elif(clusters[i]==4):\n",
        "      mean[4][0] = np.mean(x[i][0])\n",
        "      mean[4][1] = np.mean(x[i][1])\n",
        "      mean[4][2] = np.mean(x[i][2])\n",
        "      mean[4][3] = np.mean(x[i][3])\n",
        "    elif(clusters[i]==5):\n",
        "      mean[5][0] = np.mean(x[i][0])\n",
        "      mean[5][1] = np.mean(x[i][1])\n",
        "      mean[5][2] = np.mean(x[i][2])\n",
        "      mean[5][3] = np.mean(x[i][3])\n",
        "    elif(clusters[i]==6):\n",
        "      mean[6][0] = np.mean(x[i][0])\n",
        "      mean[6][1] = np.mean(x[i][1])\n",
        "      mean[6][2] = np.mean(x[i][2])\n",
        "      mean[6][3] = np.mean(x[i][3])\n",
        "    else:\n",
        "      continue\n",
        "  \n",
        "  centroid[0] = mean[0]\n",
        "  centroid[1] = mean[1]\n",
        "  error = euclideanDistance(centroid,prev_centroid)"
      ],
      "execution_count": 0,
      "outputs": []
    },
    {
      "cell_type": "code",
      "metadata": {
        "id": "F5thFft49AXf",
        "colab_type": "code",
        "outputId": "ad4690f3-af7c-4b8f-d2c5-57f91336facf",
        "colab": {
          "base_uri": "https://localhost:8080/",
          "height": 527
        }
      },
      "source": [
        "clusters"
      ],
      "execution_count": 0,
      "outputs": [
        {
          "output_type": "execute_result",
          "data": {
            "text/plain": [
              "array([5., 4., 3., 3., 4., 0., 0., 0., 4., 4., 4., 0., 0., 5., 5., 5., 5.,\n",
              "       5., 5., 5., 6., 6., 6., 5., 0., 0., 0., 0., 0., 4., 4., 4., 5., 5.,\n",
              "       5., 5., 5., 5., 5., 5., 5., 6., 6., 6., 5., 0., 0., 0., 0., 0., 0.,\n",
              "       4., 4., 0., 0., 5., 4., 4., 4., 4., 5., 5., 4., 3., 3., 3., 2., 4.,\n",
              "       3., 3., 2., 3., 3., 3., 3., 3., 3., 3., 4., 5., 5., 3., 3., 3., 4.,\n",
              "       4., 6., 6., 6., 6., 4., 2., 6., 4., 4., 4., 3., 3., 3., 3., 3., 3.,\n",
              "       3., 4., 4., 3., 3., 4., 3., 3., 4., 4., 4., 3., 3., 3., 3., 3., 3.,\n",
              "       3., 3., 3., 4., 3., 4., 4., 4., 4., 6., 6., 6., 6., 2., 2., 2., 2.,\n",
              "       4., 4., 6., 5., 5., 5., 5., 5., 5., 4., 5., 5., 5., 5., 5., 5., 5.,\n",
              "       4., 6., 6., 2., 3., 3., 3., 3., 4., 4., 3., 1., 3., 3., 3., 4., 3.,\n",
              "       3., 3., 3., 3., 3., 4., 3., 6., 1., 1., 1., 1., 1., 1., 6., 6., 4.,\n",
              "       4., 3., 3., 6., 5., 5., 5., 5., 5., 5., 6., 4., 4., 6., 6., 6., 6.,\n",
              "       2., 6., 5., 5., 2., 2., 3., 3., 3., 3., 3., 3., 3., 3., 3., 1., 3.,\n",
              "       1., 2., 2., 3., 3., 4., 4., 6., 5., 2., 2., 2., 6., 2., 5., 6., 6.,\n",
              "       6., 4., 6., 6., 6., 4., 6., 6., 4., 6., 6., 5., 5., 5., 5., 5., 5.,\n",
              "       4., 5., 4., 3., 3., 3., 3., 3., 3., 3., 3., 3., 3., 3., 1., 1., 4.,\n",
              "       1., 1., 1., 1., 1., 1., 1., 1., 3., 1., 3., 1., 1., 3., 1., 3., 1.,\n",
              "       3., 3., 3., 3., 3., 3., 3., 4., 3., 4., 4., 4., 3., 4., 3., 4., 3.,\n",
              "       4., 1., 1., 1., 1., 3., 3., 5., 5., 0., 0., 2., 2., 4., 4., 4., 3.,\n",
              "       4., 4., 4., 5., 5., 5., 5., 6., 6., 2., 2., 2., 4., 4., 5., 0., 4.,\n",
              "       4., 2., 2., 3., 1., 3., 3., 3., 3., 4., 4., 3., 3., 4., 3., 3., 4.,\n",
              "       2., 5., 1., 4., 4., 0., 0., 0., 0., 0., 0., 5., 5., 5., 5., 4., 4.,\n",
              "       4., 5., 3., 3., 3., 3., 4., 3., 3., 1., 3., 3., 1., 3., 3., 3., 3.,\n",
              "       3., 3., 1., 3., 1., 3., 3., 3., 3., 1., 3., 3., 1., 3., 3., 4., 3.,\n",
              "       1., 1., 1., 1., 1., 3., 1., 1., 1., 1., 1., 1., 3., 3., 3., 1., 1.,\n",
              "       1., 3., 1., 3., 4., 3., 3., 4., 1., 3., 1., 1., 3., 3., 4., 3., 1.,\n",
              "       1., 3., 3., 4., 3., 3., 3., 4., 3., 3., 1., 3., 3., 4., 1., 3., 4.,\n",
              "       1., 4., 3., 1., 1., 4., 3., 3., 1., 3., 4., 1., 3., 1., 3., 1., 3.,\n",
              "       4., 3., 4., 5., 5., 4., 4., 1., 4., 1., 4., 1., 4., 4., 3., 3., 4.,\n",
              "       4., 5., 4., 1., 1., 1.])"
            ]
          },
          "metadata": {
            "tags": []
          },
          "execution_count": 196
        }
      ]
    },
    {
      "cell_type": "code",
      "metadata": {
        "id": "WKkg_TGV-ShT",
        "colab_type": "code",
        "outputId": "680dd649-8d8c-4ed4-8095-18ef6a4dc520",
        "colab": {
          "base_uri": "https://localhost:8080/",
          "height": 34
        }
      },
      "source": [
        "adjusted_rand_score(y,clusters)\n",
        "#significant increase in accuracy"
      ],
      "execution_count": 0,
      "outputs": [
        {
          "output_type": "execute_result",
          "data": {
            "text/plain": [
              "0.23714421103000138"
            ]
          },
          "metadata": {
            "tags": []
          },
          "execution_count": 197
        }
      ]
    }
  ]
}