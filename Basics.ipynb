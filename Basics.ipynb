{
  "nbformat": 4,
  "nbformat_minor": 0,
  "metadata": {
    "colab": {
      "name": "Untitled",
      "provenance": [],
      "include_colab_link": true
    },
    "kernelspec": {
      "name": "python3",
      "display_name": "Python 3"
    }
  },
  "cells": [
    {
      "cell_type": "markdown",
      "metadata": {
        "id": "view-in-github",
        "colab_type": "text"
      },
      "source": [
        "<a href=\"https://colab.research.google.com/github/ViniitMe/Machine-Learning-foundation-and-Applications/blob/master/Basics.ipynb\" target=\"_parent\"><img src=\"https://colab.research.google.com/assets/colab-badge.svg\" alt=\"Open In Colab\"/></a>"
      ]
    },
    {
      "cell_type": "markdown",
      "metadata": {
        "id": "hAbkaO4_InrX",
        "colab_type": "text"
      },
      "source": [
        "#Assignment **1**"
      ]
    },
    {
      "cell_type": "code",
      "metadata": {
        "id": "n0J0679TIuNw",
        "colab_type": "code",
        "colab": {}
      },
      "source": [
        "import pandas as pd\n",
        "import numpy as np\n",
        "import matplotlib.pyplot as plt\n",
        "import seaborn as sns\n",
        "from sklearn.metrics import accuracy_score"
      ],
      "execution_count": 0,
      "outputs": []
    },
    {
      "cell_type": "code",
      "metadata": {
        "id": "-tCaGxEsI0cA",
        "colab_type": "code",
        "colab": {}
      },
      "source": [
        "# 2D Gaussian Distribution points generation\n",
        "mu1 = [2, 2]\n",
        "var1 = [[2, 0], [0, 2]]\n",
        "\n",
        "mu2 = [4, 4]\n",
        "var2 = [[2, 0], [0, 2]]\n",
        "\n",
        "mu3 = [3, 4]\n",
        "var3 = [[2, 0], [0, 1]]\n",
        "\n",
        "mu4 = [2, 3]\n",
        "var4 = [[1, 0], [0, 2]]\n",
        "\n",
        "mu5 = [3, 3]\n",
        "var5 = [[3, 0], [0, 3]]"
      ],
      "execution_count": 0,
      "outputs": []
    },
    {
      "cell_type": "code",
      "metadata": {
        "id": "inx1EXei2L7x",
        "colab_type": "code",
        "colab": {}
      },
      "source": [
        "# Generating training samples\n",
        "x1 = np.random.multivariate_normal(mu1, var1, 20)\n",
        "x2 = np.random.multivariate_normal(mu2, var2, 20)\n",
        "x3 = np.random.multivariate_normal(mu3, var3, 20)\n",
        "x4 = np.random.multivariate_normal(mu4, var4, 20)\n",
        "x5 = np.random.multivariate_normal(mu5, var5, 20)\n",
        "\n",
        "x_train = np.concatenate((x1, x2, x3, x4, x5))\n",
        "y_train = np.concatenate((np.ones((20,1)), 2 * np.ones((20,1)), 3 * np.ones((20,1)), 4 * np.ones((20,1)), 5 * np.ones((20,1))))"
      ],
      "execution_count": 0,
      "outputs": []
    },
    {
      "cell_type": "code",
      "metadata": {
        "id": "smMMZnhV5fYy",
        "colab_type": "code",
        "colab": {}
      },
      "source": [
        "# Generating test samples\n",
        "t1 =  np.random.multivariate_normal(mu1, var1, 5)\n",
        "t2 =  np.random.multivariate_normal(mu2, var2, 5)\n",
        "t3 =  np.random.multivariate_normal(mu3, var3, 5)\n",
        "t4 =  np.random.multivariate_normal(mu4, var4, 5)\n",
        "t5 =  np.random.multivariate_normal(mu5, var5, 5)\n",
        "\n",
        "x_test = np.concatenate((t1, t2, t3, t4, t5))\n",
        "y_test = np.concatenate((np.ones((5,1)), 2 * np.ones((5,1)), 3 * np.ones((5,1)), 4 * np.ones((5,1)), 5 * np.ones((5,1))))"
      ],
      "execution_count": 0,
      "outputs": []
    },
    {
      "cell_type": "code",
      "metadata": {
        "id": "OZy2QR509dxe",
        "colab_type": "code",
        "outputId": "242f44fc-71ed-48c2-ccb1-82783e6ba9e2",
        "colab": {
          "base_uri": "https://localhost:8080/",
          "height": 85
        }
      },
      "source": [
        "print(\"shape of x_train: \" + str(x_train.shape))\n",
        "print(\"shape of y_train: \" + str(y_train.shape))\n",
        "\n",
        "print(\"shape of x_test: \" + str(x_test.shape))\n",
        "print(\"shape of y_test: \" + str(y_test.shape))"
      ],
      "execution_count": 0,
      "outputs": [
        {
          "output_type": "stream",
          "text": [
            "shape of x_train: (100, 2)\n",
            "shape of y_train: (100, 1)\n",
            "shape of x_test: (25, 2)\n",
            "shape of y_test: (25, 1)\n"
          ],
          "name": "stdout"
        }
      ]
    },
    {
      "cell_type": "markdown",
      "metadata": {
        "id": "IgKaBXRhAIA-",
        "colab_type": "text"
      },
      "source": [
        "KNN Implementation"
      ]
    },
    {
      "cell_type": "code",
      "metadata": {
        "id": "W0WWO1kl9kzL",
        "colab_type": "code",
        "colab": {}
      },
      "source": [
        "def euclideanDistance(point1, point2, length):\n",
        "  distance = 0\n",
        "  for x in range(length):\n",
        "    distance = distance + np.square(point1[x]-point2[x])\n",
        "  return np.sqrt(distance)"
      ],
      "execution_count": 0,
      "outputs": []
    },
    {
      "cell_type": "code",
      "metadata": {
        "id": "Be7VPyqUinKI",
        "colab_type": "code",
        "colab": {}
      },
      "source": [
        "def KNN(training_set, labels, test_instance, K):\n",
        "  distance = []\n",
        "  for i in range(len(training_set)):\n",
        "    dist = euclideanDistance(training_set[i], test_instance, 2)\n",
        "    distance.append((dist, labels[i]))\n",
        "  distance.sort(key=lambda x:x[0])\n",
        "  neighbors = distance[:K]\n",
        "  \n",
        "  vote = {}\n",
        "  for i in range(len(neighbors)):\n",
        "    response = neighbors[i][1][0]\n",
        "    if response in vote:\n",
        "      vote[response] += 1\n",
        "    else:\n",
        "      vote[response] = 1\n",
        "  sortedVote = sorted(vote.items(), key=lambda x:x[1], reverse=True )\n",
        "  return sortedVote[0][0]"
      ],
      "execution_count": 0,
      "outputs": []
    },
    {
      "cell_type": "code",
      "metadata": {
        "id": "gnZj6H94PiB5",
        "colab_type": "code",
        "colab": {}
      },
      "source": [
        "y_pred = np.zeros(25)\n",
        "y_pred2 = np.zeros(25)\n",
        "y_pred3 = np.zeros(25)\n",
        "for i in range(x_test.shape[0]):\n",
        "  neighbor = KNN(x_train, y_train, x_test[i], 1)\n",
        "  neighbor3 = KNN(x_train, y_train, x_test[i], 3)\n",
        "  neighbor5 = KNN(x_train, y_train, x_test[i], 5)\n",
        "  y_pred[i] = neighbor\n",
        "  y_pred2[i] = neighbor3\n",
        "  y_pred3[i] = neighbor5"
      ],
      "execution_count": 0,
      "outputs": []
    },
    {
      "cell_type": "code",
      "metadata": {
        "id": "LouBw3jPQe6y",
        "colab_type": "code",
        "colab": {}
      },
      "source": [
        "y_act = np.zeros(25)\n",
        "for i in range(len(y_test)):\n",
        "  y_act[i] = y_test[i]"
      ],
      "execution_count": 0,
      "outputs": []
    },
    {
      "cell_type": "code",
      "metadata": {
        "id": "zQY7sQCFQ7R9",
        "colab_type": "code",
        "outputId": "9a640688-94bc-446a-e3fc-b4fec8ee0b8d",
        "colab": {
          "base_uri": "https://localhost:8080/",
          "height": 68
        }
      },
      "source": [
        "accuracy = accuracy_score(y_act, y_pred)\n",
        "accuracy2 = accuracy_score(y_act, y_pred2)\n",
        "accuracy3 = accuracy_score(y_act, y_pred3)\n",
        "print(\"accuracy from KNN(K=1):\" + str(accuracy))\n",
        "print(\"accuracy from KNN(K=3):\" + str(accuracy2))\n",
        "print(\"accuracy from KNN(K=5):\" + str(accuracy3))"
      ],
      "execution_count": 0,
      "outputs": [
        {
          "output_type": "stream",
          "text": [
            "accuracy from KNN(K=1):0.48\n",
            "accuracy from KNN(K=3):0.4\n",
            "accuracy from KNN(K=5):0.48\n"
          ],
          "name": "stdout"
        }
      ]
    },
    {
      "cell_type": "code",
      "metadata": {
        "id": "WmQI8yQQT73o",
        "colab_type": "code",
        "outputId": "0b5dd362-39b7-47b2-fe30-3ffd26a92eac",
        "colab": {
          "base_uri": "https://localhost:8080/",
          "height": 88
        }
      },
      "source": [
        "# Cross checking the result with Scikit-Learn\n",
        "from sklearn.neighbors import KNeighborsClassifier\n",
        "clf = KNeighborsClassifier(n_neighbors=1)\n",
        "clf.fit(x_train,y_train)\n",
        "y_pred = clf.predict(x_test)\n",
        "acc = accuracy_score(y_act,y_pred)\n",
        "print(\"accuracy from KNN scikit-learn(K=1):\" + str(acc))"
      ],
      "execution_count": 0,
      "outputs": [
        {
          "output_type": "stream",
          "text": [
            "accuracy from KNN scikit-learn(K=1):0.48\n"
          ],
          "name": "stdout"
        },
        {
          "output_type": "stream",
          "text": [
            "/usr/local/lib/python3.6/dist-packages/ipykernel_launcher.py:3: DataConversionWarning: A column-vector y was passed when a 1d array was expected. Please change the shape of y to (n_samples, ), for example using ravel().\n",
            "  This is separate from the ipykernel package so we can avoid doing imports until\n"
          ],
          "name": "stderr"
        }
      ]
    },
    {
      "cell_type": "markdown",
      "metadata": {
        "id": "c16D-HvBJbjb",
        "colab_type": "text"
      },
      "source": [
        "Clustering\n"
      ]
    },
    {
      "cell_type": "code",
      "metadata": {
        "id": "H39AQTzVJdGF",
        "colab_type": "code",
        "outputId": "2961d9c6-4251-4611-9093-50d36dacee92",
        "colab": {
          "base_uri": "https://localhost:8080/",
          "height": 34
        }
      },
      "source": [
        "x_train.shape"
      ],
      "execution_count": 0,
      "outputs": [
        {
          "output_type": "execute_result",
          "data": {
            "text/plain": [
              "(100, 2)"
            ]
          },
          "metadata": {
            "tags": []
          },
          "execution_count": 25
        }
      ]
    },
    {
      "cell_type": "code",
      "metadata": {
        "id": "zUF0N8K5NqNt",
        "colab_type": "code",
        "colab": {}
      },
      "source": [
        ""
      ],
      "execution_count": 0,
      "outputs": []
    }
  ]
}